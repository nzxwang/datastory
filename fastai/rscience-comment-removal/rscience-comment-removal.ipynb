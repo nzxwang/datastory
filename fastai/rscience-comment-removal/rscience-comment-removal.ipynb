{
 "cells": [
  {
   "cell_type": "markdown",
   "metadata": {},
   "source": [
    "Dataset from: https://www.kaggle.com/areeves87/rscience-popular-comment-removal"
   ]
  },
  {
   "cell_type": "code",
   "execution_count": null,
   "metadata": {},
   "outputs": [],
   "source": [
    "%reload_ext autoreload\n",
    "%autoreload 2\n",
    "%matplotlib inline"
   ]
  },
  {
   "cell_type": "code",
   "execution_count": null,
   "metadata": {},
   "outputs": [],
   "source": [
    "from fastai.text import *"
   ]
  },
  {
   "cell_type": "code",
   "execution_count": null,
   "metadata": {},
   "outputs": [],
   "source": [
    "#encoding = 'latin-1'\n",
    "df = pd.read_csv('reddit_200k_train.csv', encoding=\"ISO-8859-1\")\n",
    "df.head()"
   ]
  },
  {
   "cell_type": "code",
   "execution_count": null,
   "metadata": {},
   "outputs": [],
   "source": [
    "valid_pct = 0.2\n",
    "cut = int(valid_pct * len(df)) + 1\n",
    "data_lm = (TextLMDataBunch.from_df(path=\".\",\n",
    "                                 train_df = df[cut:],\n",
    "                                 valid_df = df[:cut],\n",
    "                                 text_cols = \"body\",\n",
    "                                 label_cols = \"REMOVED\")\n",
    "       )"
   ]
  },
  {
   "cell_type": "code",
   "execution_count": null,
   "metadata": {},
   "outputs": [],
   "source": [
    "data_lm.save()"
   ]
  },
  {
   "cell_type": "code",
   "execution_count": null,
   "metadata": {},
   "outputs": [],
   "source": [
    "data_lm = load_data(\".\")"
   ]
  },
  {
   "cell_type": "code",
   "execution_count": null,
   "metadata": {},
   "outputs": [],
   "source": [
    "data_lm.show_batch()"
   ]
  },
  {
   "cell_type": "code",
   "execution_count": null,
   "metadata": {},
   "outputs": [],
   "source": [
    "learn = language_model_learner(data_lm, AWD_LSTM, drop_mult=0.3)"
   ]
  },
  {
   "cell_type": "code",
   "execution_count": null,
   "metadata": {},
   "outputs": [],
   "source": [
    "learn.lr_find()"
   ]
  },
  {
   "cell_type": "code",
   "execution_count": null,
   "metadata": {},
   "outputs": [],
   "source": [
    "learn.recorder.plot()"
   ]
  },
  {
   "cell_type": "code",
   "execution_count": null,
   "metadata": {},
   "outputs": [],
   "source": [
    "learn.fit_one_cycle(1, 1e-2, moms=(0.8,0.7))"
   ]
  },
  {
   "cell_type": "code",
   "execution_count": null,
   "metadata": {},
   "outputs": [],
   "source": [
    "learn.save('fit_head')"
   ]
  },
  {
   "cell_type": "code",
   "execution_count": null,
   "metadata": {},
   "outputs": [],
   "source": [
    "learn.load('fit_head');"
   ]
  },
  {
   "cell_type": "code",
   "execution_count": null,
   "metadata": {},
   "outputs": [],
   "source": [
    "learn.fit_one_cycle(10, 1e-3, moms=(0.8,0.7))"
   ]
  },
  {
   "cell_type": "code",
   "execution_count": null,
   "metadata": {},
   "outputs": [],
   "source": [
    "learn.save('fine_tuned')"
   ]
  },
  {
   "cell_type": "code",
   "execution_count": null,
   "metadata": {},
   "outputs": [],
   "source": [
    "TEXT = \"Newton's first law has nothing to do with\"\n",
    "N_WORDS = 40\n",
    "N_SENTENCES = 2"
   ]
  },
  {
   "cell_type": "code",
   "execution_count": null,
   "metadata": {},
   "outputs": [],
   "source": [
    "print(\"\\n\".join(learn.predict(TEXT, N_WORDS, temperature=0.75) for _ in range(N_SENTENCES)))"
   ]
  },
  {
   "cell_type": "code",
   "execution_count": null,
   "metadata": {},
   "outputs": [],
   "source": [
    "learn.save_encoder('fine_tuned_enc')"
   ]
  },
  {
   "cell_type": "code",
   "execution_count": null,
   "metadata": {},
   "outputs": [],
   "source": [
    "!jupyter nbconvert rscience-comment-removal.ipynb --to html --output nbs/2019-07-02_lm_only"
   ]
  },
  {
   "cell_type": "code",
   "execution_count": null,
   "metadata": {},
   "outputs": [],
   "source": [
    "valid_pct = 0.2\n",
    "cut = int(valid_pct * len(df)) + 1\n",
    "data_clas = (TextClasDataBunch.from_df(path=\".\",\n",
    "                                 train_df = df[cut:],\n",
    "                                 valid_df = df[:cut],\n",
    "                                 text_cols = \"body\",\n",
    "                                 label_cols = \"REMOVED\")\n",
    "       )\n",
    "data_clas.save('data_clas.pkl')"
   ]
  },
  {
   "cell_type": "code",
   "execution_count": null,
   "metadata": {},
   "outputs": [],
   "source": [
    "data_clas.save('data_clas.pkl')"
   ]
  },
  {
   "cell_type": "code",
   "execution_count": null,
   "metadata": {},
   "outputs": [],
   "source": [
    "data_clas = load_data(path, 'data_clas.pkl', bs=bs)"
   ]
  },
  {
   "cell_type": "code",
   "execution_count": null,
   "metadata": {},
   "outputs": [],
   "source": [
    "data_clas.show_batch(10)"
   ]
  },
  {
   "cell_type": "code",
   "execution_count": null,
   "metadata": {},
   "outputs": [],
   "source": [
    "learn = text_classifier_learner(data_clas, AWD_LSTM, drop_mult=0.5)\n",
    "learn.load_encoder('fine_tuned_enc')"
   ]
  },
  {
   "cell_type": "code",
   "execution_count": null,
   "metadata": {},
   "outputs": [],
   "source": [
    "learn.lr_find()"
   ]
  },
  {
   "cell_type": "code",
   "execution_count": null,
   "metadata": {},
   "outputs": [],
   "source": [
    "learn.recorder.plot()"
   ]
  },
  {
   "cell_type": "code",
   "execution_count": null,
   "metadata": {},
   "outputs": [],
   "source": [
    "learn.fit_one_cycle(5, 3e-2, moms=(0.8,0.7))"
   ]
  },
  {
   "cell_type": "code",
   "execution_count": null,
   "metadata": {},
   "outputs": [],
   "source": [
    "learn.recorder.plot_losses()"
   ]
  },
  {
   "cell_type": "code",
   "execution_count": null,
   "metadata": {},
   "outputs": [],
   "source": [
    "learn.save('first')"
   ]
  },
  {
   "cell_type": "code",
   "execution_count": null,
   "metadata": {},
   "outputs": [],
   "source": [
    "learn.load('first');"
   ]
  },
  {
   "cell_type": "code",
   "execution_count": null,
   "metadata": {},
   "outputs": [],
   "source": [
    "learn.freeze_to(-2)\n",
    "learn.fit_one_cycle(1, slice(1e-2/(2.6**4),1e-2), moms=(0.8,0.7))"
   ]
  },
  {
   "cell_type": "code",
   "execution_count": null,
   "metadata": {},
   "outputs": [],
   "source": [
    "learn.save('second')"
   ]
  },
  {
   "cell_type": "code",
   "execution_count": null,
   "metadata": {},
   "outputs": [],
   "source": [
    "learn.load('second');"
   ]
  },
  {
   "cell_type": "code",
   "execution_count": null,
   "metadata": {},
   "outputs": [],
   "source": [
    "learn.freeze_to(-3)\n",
    "learn.fit_one_cycle(1, slice(5e-3/(2.6**4),5e-3), moms=(0.8,0.7))"
   ]
  },
  {
   "cell_type": "code",
   "execution_count": null,
   "metadata": {},
   "outputs": [],
   "source": [
    "learn.save('third')"
   ]
  },
  {
   "cell_type": "code",
   "execution_count": null,
   "metadata": {},
   "outputs": [],
   "source": [
    "learn.load('third');"
   ]
  },
  {
   "cell_type": "code",
   "execution_count": null,
   "metadata": {},
   "outputs": [],
   "source": [
    "learn.unfreeze()\n",
    "learn.fit_one_cycle(2, slice(1e-3/(2.6**4),1e-3), moms=(0.8,0.7))"
   ]
  },
  {
   "cell_type": "markdown",
   "metadata": {},
   "source": [
    "# Let's Play\n",
    "\n",
    "From https://www.reddit.com/r/science/wiki/rules#wiki_comment_rules\n",
    "\n",
    "## Comment Rules\n",
    "\n",
    "Please report any inappropriate comments to the moderators. If you feel your comment was mistakenly removed, please message the moderators and include the link to your comment.\n",
    "1. No off-topic comments, memes, or jokes\n",
    "\n",
    "Comments must be on topic and not a meme or joke. Comments should constructively contribute to the discussion or be an attempt to learn more.\n",
    "2. No abusive, offensive, or spam comments\n",
    "\n",
    "Abusive, offensive, or spam comments will be subject to removal and repeat or malicious offenders will be banned. Bots and novelty accounts are prohibited and will be banned immediately.\n",
    "3. No personal anecdotes\n",
    "\n",
    "Comments that only rely on a user's non-professional anecdotal evidence to confirm or refute a study will be removed (e.g. \"I do that but that result doesn't happen to me\"). Comments should be limited in personal details and scientific in nature. Including references to peer-reviewed research to support your claims is highly encouraged.\n",
    "4. Comments dismissing established science must provide evidence\n",
    "\n",
    "Comments that dispute well-established scientific concepts (e.g. gravity, vaccination, anthropogenic climate change, etc.) must be supported with appropriate peer-reviewed evidence. Links to personal blogs or 'skeptic' websites are not valid forms of evidence. Comments that are overtly fringe and/or unsubstantiated will be removed.\n",
    "5. No medical advice\n",
    "\n",
    "Offering or seeking medical advice is strictly prohibited and offending comments will be removed. Discussions regarding the advantages and/or disadvantages of certain treatments, diets, or supplements is allowed as long as relevant and reputable evidence is provided.\n",
    "6. Repeat or flagrant offenders will be banned\n",
    "\n",
    "Users that frequently or flagrantly violate the comment rules will be banned."
   ]
  },
  {
   "cell_type": "code",
   "execution_count": null,
   "metadata": {},
   "outputs": [],
   "source": [
    "comments = [\n",
    "    \"Nice try FBI.\", #1 meme\n",
    "    \"You have no idea wtf you're talking about.\", #2 abusive/offensive\n",
    "    \"I do that but that result doesn't happen to me\", #3 personal anecdote (verbatim example)\n",
    "    \"No you have to flip it. If you don't believe me, just google it.\" #3 anecdote (something my mom would say LOL)\n",
    "    \"My IQ is 200. I'm pretty sure I'm right.\",\n",
    "    \"Thank goodness my daughter wasn't vaccinated or she would be autistic too.\", #4\n",
    "    \"Get a prescription for Benzaclin. It will clear up your acne.\", #5 medical advice (though I do use benzaclin myself)\n",
    "    \"Sorry, my last comment was uncalled for. I was too caught up in the argument.\",\n",
    "    \"Actually, several groups from UCLA failed to reproduce those results, and that paper ended up being retracted last year.\",\n",
    "    #these are copy and pasted comments.\n",
    "    \"I’d love to see a study looking at how many people who quit drinking also make other positive lifestyle choices leading to that feeling of how everything’s better than before.\",\n",
    "    \"The wording of the summary implies that male moderate drinkers who quit alcohol were mentally worse off or unchanged.\",\n",
    "    \"Pretty moderate in Europe.\",\n",
    "    \"I’ll drink to that\",\n",
    "    \"So we can't cure the common cold or cancer, but maybe one can cure the other?\",\n",
    "    \"That sounds pretty cool actually\",\n",
    "    \"Yeah, cough and post nasal drip is definitely preferable to blood in my urine, death etc...\",\n",
    "    \"Ugh. I seriously hate post nasal drip. Keeps me up at night when I got it\",\n",
    "    \"I have it right now and just crave a good night's rest\"\n",
    "]"
   ]
  },
  {
   "cell_type": "code",
   "execution_count": null,
   "metadata": {},
   "outputs": [],
   "source": [
    "for comment in comments:\n",
    "    pred = learn.predict(comment)\n",
    "    print(comment)\n",
    "    print(\"Moderator Removal Probability: \" + str(pred[2][1].item()))\n",
    "    print(\"\\n\")"
   ]
  },
  {
   "cell_type": "code",
   "execution_count": null,
   "metadata": {},
   "outputs": [],
   "source": [
    "!jupyter nbconvert rscience-comment-removal.ipynb --to html --output nbs/2019-07-08_clas_0.712acc"
   ]
  }
 ],
 "metadata": {
  "kernelspec": {
   "display_name": "Python 3",
   "language": "python",
   "name": "python3"
  },
  "language_info": {
   "codemirror_mode": {
    "name": "ipython",
    "version": 3
   },
   "file_extension": ".py",
   "mimetype": "text/x-python",
   "name": "python",
   "nbconvert_exporter": "python",
   "pygments_lexer": "ipython3",
   "version": "3.7.0"
  }
 },
 "nbformat": 4,
 "nbformat_minor": 2
}
