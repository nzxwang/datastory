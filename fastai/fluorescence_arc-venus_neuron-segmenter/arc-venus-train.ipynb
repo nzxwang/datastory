{
 "cells": [
  {
   "cell_type": "code",
   "execution_count": null,
   "metadata": {},
   "outputs": [],
   "source": [
    "%reload_ext autoreload\n",
    "%autoreload 2\n",
    "%matplotlib inline"
   ]
  },
  {
   "cell_type": "code",
   "execution_count": 2,
   "metadata": {},
   "outputs": [],
   "source": [
    "from fastai.vision import *\n",
    "from fastai.callbacks.hooks import *\n",
    "from fastai.utils.mem import *\n",
    "from pathlib import Path\n",
    "from functools import partial\n",
    "import cv2 as cv\n",
    "import matplotlib.pyplot as plt\n",
    "import numpy as np\n",
    "import re, os\n",
    "import random"
   ]
  },
  {
   "cell_type": "code",
   "execution_count": 3,
   "metadata": {},
   "outputs": [],
   "source": [
    "raw_dir = Path(\"raw\")\n",
    "    \n",
    "raws = [raw_path for raw_path in raw_dir.ls() if \".tif\" in raw_path.as_posix()]\n",
    "images = sorted([raw_path for raw_path in raws if \"_image\" in raw_path.name])\n",
    "labels = sorted([raw_path for raw_path in raws if \"_label\" in raw_path.name])\n",
    "\n",
    "processed_dir = Path(\"processed\")\n",
    "# for f in processed_dir.ls(): os.remove(f)\n",
    "    \n",
    "l=224"
   ]
  },
  {
   "cell_type": "code",
   "execution_count": 4,
   "metadata": {},
   "outputs": [
    {
     "name": "stderr",
     "output_type": "stream",
     "text": [
      "58it [00:13,  4.25it/s]\n"
     ]
    }
   ],
   "source": [
    "from tqdm import tqdm\n",
    "random.seed(23)\n",
    "cutoff=1\n",
    "empty = 0\n",
    "R_popu = 0 #labelled by nick\n",
    "dense_popu = 0 #has dense cells\n",
    "orig_popu = 0 #labelled by Mallar\n",
    "\n",
    "\n",
    "for image_path,label_path in tqdm(zip(images,labels)):\n",
    "    image = cv.imread(image_path.as_posix(), cv.COLOR_BGR2GRAY)\n",
    "    label = cv.imread(label_path.as_posix(), cv.COLOR_BGR2GRAY)\n",
    "\n",
    "    if image.shape != label.shape:\n",
    "        raise ValueError(image_path.as_posix() + label_path.as_posix())\n",
    "    i_max = image.shape[0]//l\n",
    "    j_max = image.shape[1]//l\n",
    "\n",
    "# If the cells were labelled as 255, or something else mistakenly, instead of 1.\n",
    "    label[label!=0]=1\n",
    "\n",
    "    for i in range(i_max):\n",
    "        for j in range(j_max):\n",
    "            cropped_image = image[l*i:l*(i+1), l*j:l*(j+1)]\n",
    "            cropped_label = label[l*i:l*(i+1), l*j:l*(j+1)]\n",
    "            \n",
    "            if \"441.1_Z0063_R\" in image_path.as_posix():\n",
    "                dense_popu+=1\n",
    "                cropped_image_path = processed_dir/(image_path.stem + \"_i\" + str(i) + \"_j\" + str(j) + image_path.suffix)\n",
    "                cropped_label_path = processed_dir/(label_path.stem + \"_i\" + str(i) + \"_j\" + str(j) + label_path.suffix)\n",
    "            elif (\"_R_\" in image_path.as_posix() and (cropped_label!=0).any()):\n",
    "                R_popu+=1\n",
    "                cropped_image_path = processed_dir/(image_path.stem + \"_i\" + str(i) + \"_j\" + str(j) + image_path.suffix)\n",
    "                cropped_label_path = processed_dir/(label_path.stem + \"_i\" + str(i) + \"_j\" + str(j) + label_path.suffix)\n",
    "            elif \"_R_\" in image_path.as_posix():\n",
    "                continue\n",
    "            elif (cropped_label!=0).any():\n",
    "                orig_popu+=1\n",
    "                cropped_image_path = processed_dir/(image_path.stem + \"_i\" + str(i) + \"_j\" + str(j) + image_path.suffix)\n",
    "                cropped_label_path = processed_dir/(label_path.stem + \"_i\" + str(i) + \"_j\" + str(j) + label_path.suffix)\n",
    "            elif random.random() >= cutoff:\n",
    "                empty+=1\n",
    "                cropped_image_path = processed_dir/(image_path.stem + \"_i\" + str(i) + \"_j\" + str(j) + \"_empty\" + image_path.suffix)\n",
    "                cropped_label_path = processed_dir/(label_path.stem + \"_i\" + str(i) + \"_j\" + str(j) + \"_empty\" + label_path.suffix)\n",
    "            else:\n",
    "                continue\n",
    "            cv.imwrite(cropped_image_path.as_posix(), cropped_image)\n",
    "            cv.imwrite(cropped_label_path.as_posix(), cropped_label)"
   ]
  },
  {
   "cell_type": "code",
   "execution_count": 5,
   "metadata": {},
   "outputs": [
    {
     "name": "stdout",
     "output_type": "stream",
     "text": [
      "84\n",
      "24\n",
      "31\n",
      "0\n"
     ]
    }
   ],
   "source": [
    "print(R_popu)\n",
    "print(dense_popu)\n",
    "print(orig_popu)\n",
    "print(empty)"
   ]
  },
  {
   "cell_type": "markdown",
   "metadata": {},
   "source": [
    "## Train NN"
   ]
  },
  {
   "cell_type": "code",
   "execution_count": 6,
   "metadata": {},
   "outputs": [],
   "source": [
    "torch.cuda.set_device(0)"
   ]
  },
  {
   "cell_type": "code",
   "execution_count": 7,
   "metadata": {},
   "outputs": [],
   "source": [
    "bs = 16\n",
    "#bs=16 and l=224 will use ~7300MiB for resnet34  before unfreezing\n",
    "#bs=4 and l=224 use ~12145MiB for resnet50 before unfreezing"
   ]
  },
  {
   "cell_type": "code",
   "execution_count": 8,
   "metadata": {},
   "outputs": [],
   "source": [
    "transforms = get_transforms(\n",
    "    do_flip = True,\n",
    "    flip_vert = True,\n",
    "    max_zoom = 1, #consider\n",
    "    max_rotate = 0,\n",
    "    max_lighting = None,\n",
    "    max_warp = None,\n",
    "    p_affine = 0.75,\n",
    "    p_lighting = 0.75)"
   ]
  },
  {
   "cell_type": "code",
   "execution_count": 9,
   "metadata": {},
   "outputs": [],
   "source": [
    "get_label_from_image = lambda path: re.sub(r'_image_', '_label_', path.as_posix())\n",
    "codes = [\"NOT-CELL\", \"CELL\"]\n",
    "\n",
    "src = (\n",
    "    SegmentationItemList.from_folder(processed_dir)\n",
    "    .filter_by_func(lambda fname:'image' in Path(fname).name)\n",
    "    .split_by_rand_pct(valid_pct=0.10, seed=2)\n",
    "    .label_from_func(get_label_from_image, classes=codes)\n",
    ")\n",
    "data = (\n",
    "    src.transform(transforms, tfm_y=True)\n",
    "    .databunch(bs=bs)\n",
    "    .normalize(imagenet_stats)\n",
    ")"
   ]
  },
  {
   "cell_type": "code",
   "execution_count": 10,
   "metadata": {},
   "outputs": [],
   "source": [
    "learn = unet_learner(\n",
    "    data,\n",
    "    models.resnet34,\n",
    "    metrics=partial(dice, iou=True),\n",
    "    model_dir='.')"
   ]
  },
  {
   "cell_type": "code",
   "execution_count": 11,
   "metadata": {},
   "outputs": [
    {
     "data": {
      "text/html": [],
      "text/plain": [
       "<IPython.core.display.HTML object>"
      ]
     },
     "metadata": {},
     "output_type": "display_data"
    },
    {
     "name": "stdout",
     "output_type": "stream",
     "text": [
      "LR Finder is complete, type {learner_name}.recorder.plot() to see the graph.\n",
      "Min numerical gradient: 1.20E-05\n",
      "Min loss divided by 10: 3.63E-04\n"
     ]
    },
    {
     "data": {
      "image/png": "[encoded data removed]",
      "text/plain": [
       "<Figure size 432x288 with 1 Axes>"
      ]
     },
     "metadata": {
      "needs_background": "light"
     },
     "output_type": "display_data"
    }
   ],
   "source": [
    "lr_find(learn)\n",
    "learn.recorder.plot(suggestion=True)"
   ]
  },
  {
   "cell_type": "code",
   "execution_count": 12,
   "metadata": {},
   "outputs": [
    {
     "data": {
      "text/html": [
       "<table border=\"1\" class=\"dataframe\">\n",
       "  <thead>\n",
       "    <tr style=\"text-align: left;\">\n",
       "      <th>epoch</th>\n",
       "      <th>train_loss</th>\n",
       "      <th>valid_loss</th>\n",
       "      <th>dice</th>\n",
       "      <th>time</th>\n",
       "    </tr>\n",
       "  </thead>\n",
       "  <tbody>\n",
       "    <tr>\n",
       "      <td>0</td>\n",
       "      <td>0.317263</td>\n",
       "      <td>0.278305</td>\n",
       "      <td>0.000000</td>\n",
       "      <td>00:07</td>\n",
       "    </tr>\n",
       "    <tr>\n",
       "      <td>1</td>\n",
       "      <td>0.254991</td>\n",
       "      <td>0.062973</td>\n",
       "      <td>0.004979</td>\n",
       "      <td>00:03</td>\n",
       "    </tr>\n",
       "    <tr>\n",
       "      <td>2</td>\n",
       "      <td>0.205554</td>\n",
       "      <td>0.060798</td>\n",
       "      <td>0.054842</td>\n",
       "      <td>00:03</td>\n",
       "    </tr>\n",
       "    <tr>\n",
       "      <td>3</td>\n",
       "      <td>0.162107</td>\n",
       "      <td>0.057476</td>\n",
       "      <td>0.420317</td>\n",
       "      <td>00:03</td>\n",
       "    </tr>\n",
       "    <tr>\n",
       "      <td>4</td>\n",
       "      <td>0.138524</td>\n",
       "      <td>0.050925</td>\n",
       "      <td>0.286593</td>\n",
       "      <td>00:03</td>\n",
       "    </tr>\n",
       "    <tr>\n",
       "      <td>5</td>\n",
       "      <td>0.120051</td>\n",
       "      <td>0.042866</td>\n",
       "      <td>0.485845</td>\n",
       "      <td>00:03</td>\n",
       "    </tr>\n",
       "    <tr>\n",
       "      <td>6</td>\n",
       "      <td>0.107324</td>\n",
       "      <td>0.036918</td>\n",
       "      <td>0.431935</td>\n",
       "      <td>00:03</td>\n",
       "    </tr>\n",
       "    <tr>\n",
       "      <td>7</td>\n",
       "      <td>0.096335</td>\n",
       "      <td>0.034956</td>\n",
       "      <td>0.483802</td>\n",
       "      <td>00:03</td>\n",
       "    </tr>\n",
       "    <tr>\n",
       "      <td>8</td>\n",
       "      <td>0.085105</td>\n",
       "      <td>0.036045</td>\n",
       "      <td>0.364462</td>\n",
       "      <td>00:03</td>\n",
       "    </tr>\n",
       "    <tr>\n",
       "      <td>9</td>\n",
       "      <td>0.078535</td>\n",
       "      <td>0.036743</td>\n",
       "      <td>0.306709</td>\n",
       "      <td>00:03</td>\n",
       "    </tr>\n",
       "  </tbody>\n",
       "</table>"
      ],
      "text/plain": [
       "<IPython.core.display.HTML object>"
      ]
     },
     "metadata": {},
     "output_type": "display_data"
    }
   ],
   "source": [
    "lr = 2e-3\n",
    "learn.fit_one_cycle(10, lr)"
   ]
  },
  {
   "cell_type": "code",
   "execution_count": 13,
   "metadata": {},
   "outputs": [
    {
     "data": {
      "image/png": "[encoded data removed]",
      "text/plain": [
       "<Figure size 432x288 with 1 Axes>"
      ]
     },
     "metadata": {
      "needs_background": "light"
     },
     "output_type": "display_data"
    }
   ],
   "source": [
    "learn.recorder.plot_losses()"
   ]
  },
  {
   "cell_type": "code",
   "execution_count": null,
   "metadata": {},
   "outputs": [],
   "source": [
    "# models_path = Path(\"../../models\")\n",
    "# learn.save(models_path/\"2019-07-24_RESNET34_IOU0.66_stage1\")"
   ]
  },
  {
   "cell_type": "code",
   "execution_count": null,
   "metadata": {},
   "outputs": [],
   "source": [
    "# learn.load(models_path/\"2019-07-24_RESNET34_IOU0.66_stage1\");"
   ]
  },
  {
   "cell_type": "code",
   "execution_count": 14,
   "metadata": {},
   "outputs": [],
   "source": [
    "learn.unfreeze()"
   ]
  },
  {
   "cell_type": "code",
   "execution_count": 15,
   "metadata": {},
   "outputs": [],
   "source": [
    "lrs = slice(lr/400,lr/4)"
   ]
  },
  {
   "cell_type": "code",
   "execution_count": 16,
   "metadata": {},
   "outputs": [
    {
     "data": {
      "text/html": [
       "<table border=\"1\" class=\"dataframe\">\n",
       "  <thead>\n",
       "    <tr style=\"text-align: left;\">\n",
       "      <th>epoch</th>\n",
       "      <th>train_loss</th>\n",
       "      <th>valid_loss</th>\n",
       "      <th>dice</th>\n",
       "      <th>time</th>\n",
       "    </tr>\n",
       "  </thead>\n",
       "  <tbody>\n",
       "    <tr>\n",
       "      <td>0</td>\n",
       "      <td>0.043141</td>\n",
       "      <td>0.034359</td>\n",
       "      <td>0.464004</td>\n",
       "      <td>00:05</td>\n",
       "    </tr>\n",
       "    <tr>\n",
       "      <td>1</td>\n",
       "      <td>0.045799</td>\n",
       "      <td>0.033974</td>\n",
       "      <td>0.458611</td>\n",
       "      <td>00:03</td>\n",
       "    </tr>\n",
       "    <tr>\n",
       "      <td>2</td>\n",
       "      <td>0.046375</td>\n",
       "      <td>0.033136</td>\n",
       "      <td>0.484616</td>\n",
       "      <td>00:03</td>\n",
       "    </tr>\n",
       "    <tr>\n",
       "      <td>3</td>\n",
       "      <td>0.047273</td>\n",
       "      <td>0.035393</td>\n",
       "      <td>0.530660</td>\n",
       "      <td>00:03</td>\n",
       "    </tr>\n",
       "    <tr>\n",
       "      <td>4</td>\n",
       "      <td>0.047037</td>\n",
       "      <td>0.034938</td>\n",
       "      <td>0.374438</td>\n",
       "      <td>00:03</td>\n",
       "    </tr>\n",
       "    <tr>\n",
       "      <td>5</td>\n",
       "      <td>0.046413</td>\n",
       "      <td>0.033522</td>\n",
       "      <td>0.264288</td>\n",
       "      <td>00:03</td>\n",
       "    </tr>\n",
       "    <tr>\n",
       "      <td>6</td>\n",
       "      <td>0.045535</td>\n",
       "      <td>0.032666</td>\n",
       "      <td>0.453593</td>\n",
       "      <td>00:03</td>\n",
       "    </tr>\n",
       "    <tr>\n",
       "      <td>7</td>\n",
       "      <td>0.043949</td>\n",
       "      <td>0.037236</td>\n",
       "      <td>0.486781</td>\n",
       "      <td>00:03</td>\n",
       "    </tr>\n",
       "    <tr>\n",
       "      <td>8</td>\n",
       "      <td>0.043561</td>\n",
       "      <td>0.031338</td>\n",
       "      <td>0.494243</td>\n",
       "      <td>00:03</td>\n",
       "    </tr>\n",
       "    <tr>\n",
       "      <td>9</td>\n",
       "      <td>0.041727</td>\n",
       "      <td>0.031521</td>\n",
       "      <td>0.532501</td>\n",
       "      <td>00:05</td>\n",
       "    </tr>\n",
       "    <tr>\n",
       "      <td>10</td>\n",
       "      <td>0.040033</td>\n",
       "      <td>0.031903</td>\n",
       "      <td>0.413344</td>\n",
       "      <td>00:03</td>\n",
       "    </tr>\n",
       "    <tr>\n",
       "      <td>11</td>\n",
       "      <td>0.039458</td>\n",
       "      <td>0.030346</td>\n",
       "      <td>0.500840</td>\n",
       "      <td>00:03</td>\n",
       "    </tr>\n",
       "  </tbody>\n",
       "</table>"
      ],
      "text/plain": [
       "<IPython.core.display.HTML object>"
      ]
     },
     "metadata": {},
     "output_type": "display_data"
    }
   ],
   "source": [
    "learn.fit_one_cycle(12, lrs, pct_start=0.8)\n",
    "# learn.fit_one_cycle(12, lrs)"
   ]
  },
  {
   "cell_type": "code",
   "execution_count": null,
   "metadata": {},
   "outputs": [],
   "source": [
    "# learn.save(models_path/\"2019-07-24_RESNET34_IOU0.69_stage2\")"
   ]
  },
  {
   "cell_type": "code",
   "execution_count": null,
   "metadata": {},
   "outputs": [],
   "source": [
    "# learn.export(file = \"../models/2019-07-24_RESNET34_IOU0.69_stage2.pkl\")"
   ]
  },
  {
   "cell_type": "markdown",
   "metadata": {},
   "source": [
    "## Check"
   ]
  },
  {
   "cell_type": "code",
   "execution_count": null,
   "metadata": {},
   "outputs": [],
   "source": [
    "print(learn.data.valid_ds.__len__()) #list of N\n",
    "print(learn.data.valid_ds[0]) #tuple of input image and segment\n",
    "print(learn.data.valid_ds[0][1])\n",
    "# print(learn.data.valid_ds.__len__())\n",
    "# type(learn.data.valid_ds[0][0])"
   ]
  },
  {
   "cell_type": "code",
   "execution_count": 17,
   "metadata": {},
   "outputs": [],
   "source": [
    "# preds = learn.get_preds(with_loss=True)\n",
    "preds = learn.get_preds()"
   ]
  },
  {
   "cell_type": "code",
   "execution_count": null,
   "metadata": {},
   "outputs": [],
   "source": [
    "print(len(preds)) # tuple of list of probs and targets\n",
    "print(preds[0].shape) #predictions\n",
    "print(preds[0][0].shape) #probabilities for each label\n",
    "print(learn.data.classes) #what is each label\n",
    "print(preds[0][0][0].shape) #probabilities for label 0\n",
    "# for i in range(0,N):\n",
    "#     print(torch.max(preds[0][i][1]))\n",
    "\n",
    "# Image(preds[1][0]).show()"
   ]
  },
  {
   "cell_type": "code",
   "execution_count": 18,
   "metadata": {},
   "outputs": [],
   "source": [
    "if learn.data.valid_ds.__len__() == preds[1].shape[0]:\n",
    "    N = learn.data.valid_ds.__len__()\n",
    "else:\n",
    "    raise ValueError()\n",
    "\n",
    "xs = [learn.data.valid_ds[i][0] for i in range(N)]\n",
    "ys = [learn.data.valid_ds[i][1] for i in range(N)]\n",
    "p0s = [Image(preds[0][i][0]) for i in range(N)]\n",
    "p1s = [Image(preds[0][i][1]) for i in range(N)]\n",
    "argmax = [Image(preds[0][i].argmax(dim=0)) for i in range(N)]"
   ]
  },
  {
   "cell_type": "code",
   "execution_count": 19,
   "metadata": {},
   "outputs": [
    {
     "data": {
      "image/png": "[encoded data removed]",
      "text/plain": [
       "<Figure size 864x1800 with 12 Axes>"
      ]
     },
     "metadata": {
      "needs_background": "light"
     },
     "output_type": "display_data"
    }
   ],
   "source": [
    "ncol = 3\n",
    "nrow = N//ncol + 1\n",
    "fig=plt.figure(figsize=(12, nrow*5))\n",
    "for i in range(1,N):\n",
    "    fig.add_subplot(nrow, ncol, i)\n",
    "#     plt.imshow(xs[i-1].px.permute(1, 2, 0), cmap = \"Oranges\", alpha=0.5)\n",
    "    plt.imshow(argmax[i-1].px, cmap = \"Blues\", alpha=0.7)\n",
    "#     plt.imshow(p1s[i-1].px, cmap = \"Blues\", alpha=0.7)\n",
    "    plt.imshow(ys[i-1].px[0], cmap = \"Oranges\", alpha=0.5)\n",
    "# plt.savefig('/hpf/largeprojects/MICe/nwang/TissueVision/2019-05-31_Mallar_NeuralNet/figures/2019-06-12_mallar-results.png')\n",
    "plt.show()"
   ]
  },
  {
   "cell_type": "code",
   "execution_count": null,
   "metadata": {},
   "outputs": [],
   "source": [
    "#Wow resnet34 learns the same thing as resnet 50... I wish I did this earlier\n",
    "!jupyter nbconvert arc-venus-train.ipynb --to html --output nbs/2019-07-24_RESNET34_IOU0.69_stage2.html"
   ]
  }
 ],
 "metadata": {
  "kernelspec": {
   "display_name": "Python 3",
   "language": "python",
   "name": "python3"
  },
  "language_info": {
   "codemirror_mode": {
    "name": "ipython",
    "version": 3
   },
   "file_extension": ".py",
   "mimetype": "text/x-python",
   "name": "python",
   "nbconvert_exporter": "python",
   "pygments_lexer": "ipython3",
   "version": "3.7.0"
  }
 },
 "nbformat": 4,
 "nbformat_minor": 2
}
