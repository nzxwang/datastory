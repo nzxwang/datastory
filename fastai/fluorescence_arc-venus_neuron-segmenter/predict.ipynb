{
 "cells": [
  {
   "cell_type": "code",
   "execution_count": 1,
   "metadata": {},
   "outputs": [],
   "source": [
    "%reload_ext autoreload\n",
    "%autoreload 2\n",
    "%matplotlib inline"
   ]
  },
  {
   "cell_type": "code",
   "execution_count": 58,
   "metadata": {},
   "outputs": [],
   "source": [
    "from fastai.vision import *\n",
    "from fastai.callbacks.hooks import *\n",
    "from fastai.utils.mem import *\n",
    "\n",
    "from pathlib import Path\n",
    "from functools import partial\n",
    "import cv2 as cv\n",
    "import matplotlib.pyplot as plt\n",
    "import numpy as np\n",
    "import re\n",
    "import random\n",
    "import torch"
   ]
  },
  {
   "cell_type": "code",
   "execution_count": 3,
   "metadata": {},
   "outputs": [],
   "source": [
    "processed_dir = Path(\"/hpf/largeprojects/MICe/nwang/TissueVision/2019-05-31_Mallar_NeuralNet/processed\")\n",
    "images = sorted([raw_path for raw_path in processed_dir.ls() if \"_image\" in raw_path.as_posix()])"
   ]
  },
  {
   "cell_type": "code",
   "execution_count": 5,
   "metadata": {},
   "outputs": [],
   "source": [
    "models_path = Path(\"/hpf/largeprojects/MICe/nwang/TissueVision/2019-05-31_Mallar_NeuralNet/models\")\n",
    "\n",
    "defaults.device = torch.device(\"cpu\")\n",
    "learn = load_learner(path = models_path, file = \"2019-06-12_RESNET50_IOU0.42.pkl\")"
   ]
  },
  {
   "cell_type": "code",
   "execution_count": 87,
   "metadata": {},
   "outputs": [
    {
     "ename": "AttributeError",
     "evalue": "'ImageList' object has no attribute 'normalize'",
     "output_type": "error",
     "traceback": [
      "\u001b[0;31m---------------------------------------------------------------------------\u001b[0m",
      "\u001b[0;31mAttributeError\u001b[0m                            Traceback (most recent call last)",
      "\u001b[0;32m<ipython-input-87-0f7c6d646233>\u001b[0m in \u001b[0;36m<module>\u001b[0;34m\u001b[0m\n\u001b[1;32m      1\u001b[0m il = (ImageList.from_folder(processed_dir)\n\u001b[1;32m      2\u001b[0m       \u001b[0;34m.\u001b[0m\u001b[0mfilter_by_func\u001b[0m\u001b[0;34m(\u001b[0m\u001b[0;32mlambda\u001b[0m \u001b[0mfname\u001b[0m\u001b[0;34m:\u001b[0m\u001b[0;34m'image'\u001b[0m \u001b[0;32min\u001b[0m \u001b[0mPath\u001b[0m\u001b[0;34m(\u001b[0m\u001b[0mfname\u001b[0m\u001b[0;34m)\u001b[0m\u001b[0;34m.\u001b[0m\u001b[0mname\u001b[0m\u001b[0;34m)\u001b[0m\u001b[0;34m\u001b[0m\u001b[0m\n\u001b[0;32m----> 3\u001b[0;31m       \u001b[0;34m.\u001b[0m\u001b[0mfilter_by_func\u001b[0m\u001b[0;34m(\u001b[0m\u001b[0;32mlambda\u001b[0m \u001b[0mfname\u001b[0m\u001b[0;34m:\u001b[0m\u001b[0;34m'1.2_Z0080_R_image_i6_j3.tif'\u001b[0m \u001b[0;32min\u001b[0m \u001b[0mPath\u001b[0m\u001b[0;34m(\u001b[0m\u001b[0mfname\u001b[0m\u001b[0;34m)\u001b[0m\u001b[0;34m.\u001b[0m\u001b[0mname\u001b[0m\u001b[0;34m)\u001b[0m\u001b[0;34m\u001b[0m\u001b[0m\n\u001b[0m\u001b[1;32m      4\u001b[0m       \u001b[0;34m.\u001b[0m\u001b[0mnormalize\u001b[0m\u001b[0;34m(\u001b[0m\u001b[0mimagenet_stats\u001b[0m\u001b[0;34m)\u001b[0m\u001b[0;34m\u001b[0m\u001b[0m\n\u001b[1;32m      5\u001b[0m      )\n",
      "\u001b[0;31mAttributeError\u001b[0m: 'ImageList' object has no attribute 'normalize'"
     ]
    }
   ],
   "source": [
    "il = (ImageList.from_folder(processed_dir)\n",
    "      .filter_by_func(lambda fname:'image' in Path(fname).name)\n",
    "      .filter_by_func(lambda fname:'1.2_Z0080_R_image_i6_j3.tif' in Path(fname).name)\n",
    "      .normalize(imagenet_stats)\n",
    "     )"
   ]
  },
  {
   "cell_type": "code",
   "execution_count": 34,
   "metadata": {},
   "outputs": [
    {
     "name": "stdout",
     "output_type": "stream",
     "text": [
      "ImageList (1 items)\n",
      "Image (3, 224, 224)\n",
      "Path: /hpf/largeprojects/MICe/nwang/TissueVision/2019-05-31_Mallar_NeuralNet/processed\n",
      "<class 'fastai.vision.image.Image'>\n",
      "Image (3, 224, 224)\n"
     ]
    }
   ],
   "source": [
    "print(il)\n",
    "print(type(il[0]))\n",
    "print(il[0])"
   ]
  },
  {
   "cell_type": "code",
   "execution_count": 37,
   "metadata": {},
   "outputs": [],
   "source": [
    "prediction = learn.predict(il[0])"
   ]
  },
  {
   "cell_type": "code",
   "execution_count": 41,
   "metadata": {},
   "outputs": [
    {
     "name": "stdout",
     "output_type": "stream",
     "text": [
      "ImageSegment (1, 224, 224)\n",
      "tensor([[[0, 0, 0,  ..., 0, 0, 0],\n",
      "         [0, 0, 0,  ..., 0, 0, 0],\n",
      "         [0, 0, 0,  ..., 0, 0, 0],\n",
      "         ...,\n",
      "         [0, 0, 0,  ..., 0, 0, 0],\n",
      "         [0, 0, 0,  ..., 0, 0, 0],\n",
      "         [0, 0, 0,  ..., 0, 0, 0]]])\n",
      "tensor([[[0.6899, 0.7231, 0.7518,  ..., 0.8336, 0.8282, 0.8178],\n",
      "         [0.7059, 0.7345, 0.7779,  ..., 0.8194, 0.8094, 0.8162],\n",
      "         [0.8006, 0.8014, 0.8281,  ..., 0.8894, 0.8506, 0.8352],\n",
      "         ...,\n",
      "         [0.6832, 0.7308, 0.7709,  ..., 0.9131, 0.8887, 0.8203],\n",
      "         [0.6806, 0.7441, 0.7844,  ..., 0.9065, 0.8803, 0.8132],\n",
      "         [0.6992, 0.7400, 0.7960,  ..., 0.8870, 0.8474, 0.7853]],\n",
      "\n",
      "        [[0.3101, 0.2769, 0.2482,  ..., 0.1664, 0.1718, 0.1822],\n",
      "         [0.2941, 0.2655, 0.2221,  ..., 0.1806, 0.1906, 0.1838],\n",
      "         [0.1994, 0.1986, 0.1719,  ..., 0.1106, 0.1494, 0.1648],\n",
      "         ...,\n",
      "         [0.3168, 0.2692, 0.2291,  ..., 0.0869, 0.1113, 0.1797],\n",
      "         [0.3194, 0.2559, 0.2156,  ..., 0.0935, 0.1197, 0.1868],\n",
      "         [0.3008, 0.2600, 0.2040,  ..., 0.1130, 0.1526, 0.2147]]])\n"
     ]
    }
   ],
   "source": [
    "print(prediction[0])\n",
    "print(prediction[1])\n",
    "print(prediction[2])"
   ]
  },
  {
   "cell_type": "code",
   "execution_count": 42,
   "metadata": {},
   "outputs": [
    {
     "data": {
      "image/jpeg": "[encoded data removed]",
      "image/png": "[encoded data removed]",
      "text/plain": [
       "ImageSegment (1, 224, 224)"
      ]
     },
     "execution_count": 42,
     "metadata": {},
     "output_type": "execute_result"
    }
   ],
   "source": [
    "prediction[0]"
   ]
  },
  {
   "cell_type": "code",
   "execution_count": 62,
   "metadata": {},
   "outputs": [],
   "source": [
    "image = cv.imread(images[0].as_posix(), cv.COLOR_BGR2GRAY)"
   ]
  },
  {
   "cell_type": "code",
   "execution_count": 67,
   "metadata": {},
   "outputs": [
    {
     "data": {
      "text/plain": [
       "(224, 224)"
      ]
     },
     "execution_count": 67,
     "metadata": {},
     "output_type": "execute_result"
    }
   ],
   "source": [
    "image.shape"
   ]
  },
  {
   "cell_type": "code",
   "execution_count": 78,
   "metadata": {},
   "outputs": [],
   "source": [
    "image1 = torch.tensor(image, dtype=torch.float32).unsqueeze(0)\n",
    "image3 = torch.cat((image1, image1, image1),0)\n",
    "image3.shape\n",
    "image_proper = Image(image3)"
   ]
  },
  {
   "cell_type": "code",
   "execution_count": 80,
   "metadata": {},
   "outputs": [],
   "source": [
    "prediction = learn.predict(image_proper)"
   ]
  }
 ],
 "metadata": {
  "kernelspec": {
   "display_name": "Python 3",
   "language": "python",
   "name": "python3"
  },
  "language_info": {
   "codemirror_mode": {
    "name": "ipython",
    "version": 3
   },
   "file_extension": ".py",
   "mimetype": "text/x-python",
   "name": "python",
   "nbconvert_exporter": "python",
   "pygments_lexer": "ipython3",
   "version": "3.6.4"
  }
 },
 "nbformat": 4,
 "nbformat_minor": 2
}
