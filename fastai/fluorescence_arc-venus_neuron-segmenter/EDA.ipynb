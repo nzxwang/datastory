{
 "cells": [
  {
   "cell_type": "code",
   "execution_count": 1,
   "metadata": {},
   "outputs": [],
   "source": [
    "%reload_ext autoreload\n",
    "%autoreload 2\n",
    "%matplotlib inline"
   ]
  },
  {
   "cell_type": "markdown",
   "metadata": {},
   "source": [
    "# Import"
   ]
  },
  {
   "cell_type": "code",
   "execution_count": 2,
   "metadata": {},
   "outputs": [],
   "source": [
    "from pathlib import Path\n",
    "Path.ls = lambda x: list(x.iterdir())\n",
    "import cv2 as cv\n",
    "import matplotlib.pyplot as plt\n",
    "import numpy as np\n",
    "import pandas as pd\n",
    "import re, os\n",
    "from tqdm import tqdm"
   ]
  },
  {
   "cell_type": "code",
   "execution_count": 3,
   "metadata": {},
   "outputs": [],
   "source": [
    "raw_dir = Path(\"raw\")\n",
    "\n",
    "raws = [raw_path for raw_path in raw_dir.ls() if \".tif\" in raw_path.as_posix()]\n",
    "\n",
    "#labelled by Mallar\n",
    "images = sorted([raw_path for raw_path in raws if re.match(r\"[\\d]{1,2}_image.tif\", raw_path.name)])\n",
    "labels = sorted([raw_path for raw_path in raws if re.match(r\"[\\d]{1,2}_label.tif\", raw_path.name)])"
   ]
  },
  {
   "cell_type": "code",
   "execution_count": 4,
   "metadata": {},
   "outputs": [
    {
     "name": "stderr",
     "output_type": "stream",
     "text": [
      "100%|██████████| 46/46 [00:00<00:00, 63.19it/s]\n"
     ]
    }
   ],
   "source": [
    "all_contours = []\n",
    "for label_path in tqdm(labels[:]):\n",
    "    \n",
    "    image = cv.imread(label_path.as_posix(), cv.COLOR_BGR2GRAY)\n",
    "    \n",
    "#     plt.figure(figsize = (10,10))\n",
    "#     plt.imshow(image); plt.show()\n",
    "\n",
    "    contours, hierarchy = cv.findContours(\n",
    "        image, cv.RETR_EXTERNAL, cv.CHAIN_APPROX_NONE)\n",
    "\n",
    "    all_contours.extend([np.squeeze(contour,axis=1) for contour in contours])"
   ]
  },
  {
   "cell_type": "code",
   "execution_count": 5,
   "metadata": {},
   "outputs": [],
   "source": [
    "df = pd.DataFrame(\n",
    "    {'contour': all_contours}\n",
    ").assign(\n",
    "    moments = lambda df: df.contour.apply(lambda contour: cv.moments(contour)),\n",
    "    area = lambda df: df.contour.apply(lambda contour: cv.contourArea(contour)),\n",
    "    perimeter = lambda df: df.contour.apply(lambda contour: cv.arcLength(contour, closed=True)),\n",
    "    ellipse = lambda df: df.contour.apply(lambda contour: cv.fitEllipse(contour))\n",
    ").assign(\n",
    "    #center, axes_lengths, orientation\n",
    "    major_axis_length = lambda df: df.ellipse.apply(lambda ellipse: max(ellipse[1])),\n",
    "    minor_axis_length = lambda df: df.ellipse.apply(lambda ellipse: min(ellipse[1]))\n",
    ").assign(\n",
    "    eccentricity = lambda df: np.sqrt(1 - (df.minor_axis_length / df.major_axis_length) ** 2 ) \n",
    ")"
   ]
  },
  {
   "cell_type": "code",
   "execution_count": 6,
   "metadata": {},
   "outputs": [
    {
     "data": {
      "text/plain": [
       "1.0"
      ]
     },
     "execution_count": 6,
     "metadata": {},
     "output_type": "execute_result"
    }
   ],
   "source": [
    "dist = cv.pointPolygonTest(contour = df.contour[0], pt = (738,90), measureDist = False)\n",
    "dist"
   ]
  },
  {
   "cell_type": "code",
   "execution_count": 7,
   "metadata": {},
   "outputs": [
    {
     "data": {
      "text/html": [
       "<div>\n",
       "<style scoped>\n",
       "    .dataframe tbody tr th:only-of-type {\n",
       "        vertical-align: middle;\n",
       "    }\n",
       "\n",
       "    .dataframe tbody tr th {\n",
       "        vertical-align: top;\n",
       "    }\n",
       "\n",
       "    .dataframe thead th {\n",
       "        text-align: right;\n",
       "    }\n",
       "</style>\n",
       "<table border=\"1\" class=\"dataframe\">\n",
       "  <thead>\n",
       "    <tr style=\"text-align: right;\">\n",
       "      <th></th>\n",
       "      <th>contour</th>\n",
       "      <th>moments</th>\n",
       "      <th>area</th>\n",
       "      <th>perimeter</th>\n",
       "      <th>ellipse</th>\n",
       "      <th>major_axis_length</th>\n",
       "      <th>minor_axis_length</th>\n",
       "      <th>eccentricity</th>\n",
       "    </tr>\n",
       "  </thead>\n",
       "  <tbody>\n",
       "    <tr>\n",
       "      <th>0</th>\n",
       "      <td>[[735, 84], [734, 85], [733, 86], [732, 87], [...</td>\n",
       "      <td>{'m00': 54.0, 'm10': 39813.666666666664, 'm01'...</td>\n",
       "      <td>54.0</td>\n",
       "      <td>28.142135</td>\n",
       "      <td>((737.2798461914062, 87.33068084716797), (7.30...</td>\n",
       "      <td>9.828528</td>\n",
       "      <td>7.306267</td>\n",
       "      <td>0.668877</td>\n",
       "    </tr>\n",
       "    <tr>\n",
       "      <th>1</th>\n",
       "      <td>[[885, 556], [884, 557], [884, 558], [884, 559...</td>\n",
       "      <td>{'m00': 73.5, 'm10': 65369.166666666664, 'm01'...</td>\n",
       "      <td>73.5</td>\n",
       "      <td>33.899495</td>\n",
       "      <td>((889.365966796875, 559.8482055664062), (8.003...</td>\n",
       "      <td>12.118528</td>\n",
       "      <td>8.003853</td>\n",
       "      <td>0.750858</td>\n",
       "    </tr>\n",
       "  </tbody>\n",
       "</table>\n",
       "</div>"
      ],
      "text/plain": [
       "                                             contour  \\\n",
       "0  [[735, 84], [734, 85], [733, 86], [732, 87], [...   \n",
       "1  [[885, 556], [884, 557], [884, 558], [884, 559...   \n",
       "\n",
       "                                             moments  area  perimeter  \\\n",
       "0  {'m00': 54.0, 'm10': 39813.666666666664, 'm01'...  54.0  28.142135   \n",
       "1  {'m00': 73.5, 'm10': 65369.166666666664, 'm01'...  73.5  33.899495   \n",
       "\n",
       "                                             ellipse  major_axis_length  \\\n",
       "0  ((737.2798461914062, 87.33068084716797), (7.30...           9.828528   \n",
       "1  ((889.365966796875, 559.8482055664062), (8.003...          12.118528   \n",
       "\n",
       "   minor_axis_length  eccentricity  \n",
       "0           7.306267      0.668877  \n",
       "1           8.003853      0.750858  "
      ]
     },
     "execution_count": 7,
     "metadata": {},
     "output_type": "execute_result"
    }
   ],
   "source": [
    "df.head(2)"
   ]
  },
  {
   "cell_type": "code",
   "execution_count": 8,
   "metadata": {},
   "outputs": [
    {
     "name": "stdout",
     "output_type": "stream",
     "text": [
      "\n",
      "    Average: 91.94\n",
      "    Standard Deviation: 30.07\n",
      "    5th Percentile: 50.53\n",
      "    95th Percentile: 147.78\n",
      "    \n"
     ]
    },
    {
     "data": {
      "text/plain": [
       "array([[<matplotlib.axes._subplots.AxesSubplot object at 0x7feef192ed68>]],\n",
       "      dtype=object)"
      ]
     },
     "execution_count": 8,
     "metadata": {},
     "output_type": "execute_result"
    },
    {
     "data": {
      "image/png": "[encoded data removed]",
      "text/plain": [
       "<Figure size 432x288 with 1 Axes>"
      ]
     },
     "metadata": {
      "needs_background": "light"
     },
     "output_type": "display_data"
    }
   ],
   "source": [
    "print(\n",
    "    \"\"\"\n",
    "    Average: {:.2f}\n",
    "    Standard Deviation: {:.2f}\n",
    "    5th Percentile: {:.2f}\n",
    "    95th Percentile: {:.2f}\n",
    "    \"\"\".format(\n",
    "        df[\"area\"].mean(), df[\"area\"].std(),\n",
    "        df[\"area\"].quantile(q=0.05), df[\"area\"].quantile(q=0.95)\n",
    "    )\n",
    ")\n",
    "df.hist(\"area\", bins=20)"
   ]
  },
  {
   "cell_type": "code",
   "execution_count": 9,
   "metadata": {},
   "outputs": [
    {
     "name": "stdout",
     "output_type": "stream",
     "text": [
      "\n",
      "    Average: 0.69\n",
      "    Standard Deviation: 0.13\n",
      "    5th Percentile: 0.53\n",
      "    95th Percentile: 0.84\n",
      "    \n"
     ]
    },
    {
     "data": {
      "text/plain": [
       "array([[<matplotlib.axes._subplots.AxesSubplot object at 0x7feef055b400>]],\n",
       "      dtype=object)"
      ]
     },
     "execution_count": 9,
     "metadata": {},
     "output_type": "execute_result"
    },
    {
     "data": {
      "image/png": "[encoded data removed]",
      "text/plain": [
       "<Figure size 432x288 with 1 Axes>"
      ]
     },
     "metadata": {
      "needs_background": "light"
     },
     "output_type": "display_data"
    }
   ],
   "source": [
    "print(\n",
    "    \"\"\"\n",
    "    Average: {:.2f}\n",
    "    Standard Deviation: {:.2f}\n",
    "    5th Percentile: {:.2f}\n",
    "    95th Percentile: {:.2f}\n",
    "    \"\"\".format(\n",
    "        df[\"eccentricity\"].mean(), df[\"eccentricity\"].std(),\n",
    "        df[\"eccentricity\"].quantile(q=0.05), df[\"eccentricity\"].quantile(q=0.95)\n",
    "    )\n",
    ")\n",
    "df.hist(\"eccentricity\", bins=20)"
   ]
  },
  {
   "cell_type": "markdown",
   "metadata": {},
   "source": [
    "<img src=\"https://files.mtstatic.com/site_4539/7119/0?Expires=1566497982&Signature=hDIctTs7NKIlDdSo1aYdZdcIv3IX-moOh0OA3aZdq78iVorZK3~1mSHXtPOZNmtN4GSi8ilelyOsJ4AtK5hMDJ4oRAgbYXvrXQEF1JJcY~mTY8ZnqPTAqnHDzr~eS-78LWH~rLfJL554etA0woY~x8GM899PGb3pQyDmprEC7XQ_&Key-Pair-Id=APKAJ5Y6AV4GI7A555NA \" width=\"300\">"
   ]
  }
 ],
 "metadata": {
  "kernelspec": {
   "display_name": "Python 3",
   "language": "python",
   "name": "python3"
  },
  "language_info": {
   "codemirror_mode": {
    "name": "ipython",
    "version": 3
   },
   "file_extension": ".py",
   "mimetype": "text/x-python",
   "name": "python",
   "nbconvert_exporter": "python",
   "pygments_lexer": "ipython3",
   "version": "3.6.4"
  }
 },
 "nbformat": 4,
 "nbformat_minor": 2
}
