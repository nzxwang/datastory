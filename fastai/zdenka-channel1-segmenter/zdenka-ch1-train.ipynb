{
 "cells": [
  {
   "cell_type": "code",
   "execution_count": 1,
   "metadata": {},
   "outputs": [],
   "source": [
    "%reload_ext autoreload\n",
    "%autoreload 2\n",
    "%matplotlib inline"
   ]
  },
  {
   "cell_type": "markdown",
   "metadata": {},
   "source": [
    "# Import"
   ]
  },
  {
   "cell_type": "code",
   "execution_count": 75,
   "metadata": {},
   "outputs": [],
   "source": [
    "from fastai.vision import *\n",
    "from fastai.callbacks.hooks import *\n",
    "from fastai.utils.mem import *\n",
    "from pathlib import Path\n",
    "from functools import partial\n",
    "import cv2 as cv\n",
    "import matplotlib.pyplot as plt\n",
    "import numpy as np\n",
    "import re, os\n",
    "import random\n",
    "import fastai"
   ]
  },
  {
   "cell_type": "code",
   "execution_count": 76,
   "metadata": {},
   "outputs": [
    {
     "data": {
      "text/plain": [
       "'1.0.55'"
      ]
     },
     "execution_count": 76,
     "metadata": {},
     "output_type": "execute_result"
    }
   ],
   "source": [
    "fastai.__version__"
   ]
  },
  {
   "cell_type": "code",
   "execution_count": 77,
   "metadata": {},
   "outputs": [
    {
     "data": {
      "text/plain": [
       "'3.4.4'"
      ]
     },
     "execution_count": 77,
     "metadata": {},
     "output_type": "execute_result"
    }
   ],
   "source": [
    "cv.__version__"
   ]
  },
  {
   "cell_type": "markdown",
   "metadata": {},
   "source": [
    "# Preprocess"
   ]
  },
  {
   "cell_type": "code",
   "execution_count": 117,
   "metadata": {},
   "outputs": [],
   "source": [
    "raw_dir = Path(\"raw\")\n",
    "    \n",
    "raws = [raw_path for raw_path in raw_dir.ls() if \".tif\" in raw_path.as_posix()]\n",
    "labels = sorted([raw_path for raw_path in raws if \"_label\" in raw_path.name])\n",
    "images = sorted([Path(re.sub(r'_label', '_image', raw_path.as_posix())) for raw_path in labels])\n",
    "\n",
    "processed_dir = Path(\"processed\")\n",
    "# for f in processed_dir.ls(): os.remove(f)\n",
    "    \n",
    "l=224"
   ]
  },
  {
   "cell_type": "code",
   "execution_count": 118,
   "metadata": {},
   "outputs": [
    {
     "name": "stdout",
     "output_type": "stream",
     "text": [
      "9\n",
      "9\n"
     ]
    }
   ],
   "source": [
    "print(labels.__len__())\n",
    "print(images.__len__())"
   ]
  },
  {
   "cell_type": "code",
   "execution_count": 119,
   "metadata": {},
   "outputs": [
    {
     "name": "stdout",
     "output_type": "stream",
     "text": [
      "raw/F1_test_ch1_Z0011_R_BL_image.tif raw/F1_test_ch1_Z0011_R_BL_label.tif\n",
      "raw/F1_test_ch1_Z0011_R_BR_image.tif raw/F1_test_ch1_Z0011_R_BR_label.tif\n",
      "raw/F1_test_ch1_Z0011_R_UL_image.tif raw/F1_test_ch1_Z0011_R_UL_label.tif\n",
      "raw/F1_test_ch1_Z0091_L_BL_image.tif raw/F1_test_ch1_Z0091_L_BL_label.tif\n",
      "raw/F1_test_ch1_Z0091_L_BR_image.tif raw/F1_test_ch1_Z0091_L_BR_label.tif\n",
      "raw/F1_test_ch1_Z0091_L_UR_image.tif raw/F1_test_ch1_Z0091_L_UR_label.tif\n",
      "raw/M2_test_Ch1_Z0071_R_BL_image.tif raw/M2_test_Ch1_Z0071_R_BL_label.tif\n",
      "raw/M2_test_Ch1_Z0071_R_BR_image.tif raw/M2_test_Ch1_Z0071_R_BR_label.tif\n",
      "raw/M2_test_Ch1_Z0071_R_UL_image.tif raw/M2_test_Ch1_Z0071_R_UL_label.tif\n"
     ]
    }
   ],
   "source": [
    "for image,label in zip(images,labels):\n",
    "    print(image,label)"
   ]
  },
  {
   "cell_type": "code",
   "execution_count": 120,
   "metadata": {},
   "outputs": [
    {
     "name": "stderr",
     "output_type": "stream",
     "text": [
      "\r",
      "0it [00:00, ?it/s]"
     ]
    },
    {
     "name": "stdout",
     "output_type": "stream",
     "text": [
      "processed/F1_test_ch1_Z0011_R_BL_image_i0_j0.tif processed/F1_test_ch1_Z0011_R_BL_label_i0_j0.tif\n",
      "processed/F1_test_ch1_Z0011_R_BL_image_i0_j1.tif processed/F1_test_ch1_Z0011_R_BL_label_i0_j1.tif\n",
      "processed/F1_test_ch1_Z0011_R_BL_image_i0_j2.tif processed/F1_test_ch1_Z0011_R_BL_label_i0_j2.tif\n",
      "processed/F1_test_ch1_Z0011_R_BL_image_i1_j0.tif processed/F1_test_ch1_Z0011_R_BL_label_i1_j0.tif\n",
      "processed/F1_test_ch1_Z0011_R_BL_image_i1_j1.tif processed/F1_test_ch1_Z0011_R_BL_label_i1_j1.tif\n",
      "processed/F1_test_ch1_Z0011_R_BL_image_i1_j2.tif processed/F1_test_ch1_Z0011_R_BL_label_i1_j2.tif\n",
      "processed/F1_test_ch1_Z0011_R_BL_image_i2_j0.tif processed/F1_test_ch1_Z0011_R_BL_label_i2_j0.tif\n",
      "processed/F1_test_ch1_Z0011_R_BL_image_i2_j1.tif processed/F1_test_ch1_Z0011_R_BL_label_i2_j1.tif\n",
      "processed/F1_test_ch1_Z0011_R_BL_image_i2_j2.tif processed/F1_test_ch1_Z0011_R_BL_label_i2_j2.tif\n"
     ]
    },
    {
     "name": "stderr",
     "output_type": "stream",
     "text": [
      "\r",
      "1it [00:00,  1.70it/s]"
     ]
    },
    {
     "name": "stdout",
     "output_type": "stream",
     "text": [
      "processed/F1_test_ch1_Z0011_R_BR_image_i0_j0.tif processed/F1_test_ch1_Z0011_R_BR_label_i0_j0.tif\n",
      "processed/F1_test_ch1_Z0011_R_BR_image_i0_j1.tif processed/F1_test_ch1_Z0011_R_BR_label_i0_j1.tif\n",
      "processed/F1_test_ch1_Z0011_R_BR_image_i0_j2.tif processed/F1_test_ch1_Z0011_R_BR_label_i0_j2.tif\n",
      "processed/F1_test_ch1_Z0011_R_BR_image_i1_j0.tif processed/F1_test_ch1_Z0011_R_BR_label_i1_j0.tif\n",
      "processed/F1_test_ch1_Z0011_R_BR_image_i1_j1.tif processed/F1_test_ch1_Z0011_R_BR_label_i1_j1.tif\n"
     ]
    },
    {
     "name": "stderr",
     "output_type": "stream",
     "text": [
      "\r",
      "2it [00:01,  1.79it/s]"
     ]
    },
    {
     "name": "stdout",
     "output_type": "stream",
     "text": [
      "processed/F1_test_ch1_Z0011_R_BR_image_i1_j2_empty.tif processed/F1_test_ch1_Z0011_R_BR_label_i1_j2_empty.tif\n",
      "processed/F1_test_ch1_Z0011_R_BR_image_i2_j0.tif processed/F1_test_ch1_Z0011_R_BR_label_i2_j0.tif\n",
      "processed/F1_test_ch1_Z0011_R_BR_image_i2_j1.tif processed/F1_test_ch1_Z0011_R_BR_label_i2_j1.tif\n",
      "processed/F1_test_ch1_Z0011_R_BR_image_i2_j2_empty.tif processed/F1_test_ch1_Z0011_R_BR_label_i2_j2_empty.tif\n",
      "processed/F1_test_ch1_Z0011_R_UL_image_i0_j0.tif processed/F1_test_ch1_Z0011_R_UL_label_i0_j0.tif\n",
      "processed/F1_test_ch1_Z0011_R_UL_image_i0_j1.tif processed/F1_test_ch1_Z0011_R_UL_label_i0_j1.tif\n",
      "processed/F1_test_ch1_Z0011_R_UL_image_i0_j2.tif processed/F1_test_ch1_Z0011_R_UL_label_i0_j2.tif\n",
      "processed/F1_test_ch1_Z0011_R_UL_image_i1_j0.tif processed/F1_test_ch1_Z0011_R_UL_label_i1_j0.tif\n",
      "processed/F1_test_ch1_Z0011_R_UL_image_i1_j1.tif processed/F1_test_ch1_Z0011_R_UL_label_i1_j1.tif\n",
      "processed/F1_test_ch1_Z0011_R_UL_image_i1_j2.tif processed/F1_test_ch1_Z0011_R_UL_label_i1_j2.tif\n",
      "processed/F1_test_ch1_Z0011_R_UL_image_i2_j0.tif processed/F1_test_ch1_Z0011_R_UL_label_i2_j0.tif\n"
     ]
    },
    {
     "name": "stderr",
     "output_type": "stream",
     "text": [
      "\r",
      "3it [00:01,  2.02it/s]"
     ]
    },
    {
     "name": "stdout",
     "output_type": "stream",
     "text": [
      "processed/F1_test_ch1_Z0011_R_UL_image_i2_j1.tif processed/F1_test_ch1_Z0011_R_UL_label_i2_j1.tif\n",
      "processed/F1_test_ch1_Z0011_R_UL_image_i2_j2.tif processed/F1_test_ch1_Z0011_R_UL_label_i2_j2.tif\n",
      "processed/F1_test_ch1_Z0091_L_BL_image_i0_j0.tif processed/F1_test_ch1_Z0091_L_BL_label_i0_j0.tif\n",
      "processed/F1_test_ch1_Z0091_L_BL_image_i0_j1.tif processed/F1_test_ch1_Z0091_L_BL_label_i0_j1.tif\n",
      "processed/F1_test_ch1_Z0091_L_BL_image_i0_j2.tif processed/F1_test_ch1_Z0091_L_BL_label_i0_j2.tif\n"
     ]
    },
    {
     "name": "stderr",
     "output_type": "stream",
     "text": [
      "\r",
      "4it [00:01,  2.16it/s]"
     ]
    },
    {
     "name": "stdout",
     "output_type": "stream",
     "text": [
      "processed/F1_test_ch1_Z0091_L_BL_image_i1_j0.tif processed/F1_test_ch1_Z0091_L_BL_label_i1_j0.tif\n",
      "processed/F1_test_ch1_Z0091_L_BL_image_i1_j1.tif processed/F1_test_ch1_Z0091_L_BL_label_i1_j1.tif\n",
      "processed/F1_test_ch1_Z0091_L_BL_image_i1_j2.tif processed/F1_test_ch1_Z0091_L_BL_label_i1_j2.tif\n",
      "processed/F1_test_ch1_Z0091_L_BL_image_i2_j0_empty.tif processed/F1_test_ch1_Z0091_L_BL_label_i2_j0_empty.tif\n",
      "processed/F1_test_ch1_Z0091_L_BL_image_i2_j1.tif processed/F1_test_ch1_Z0091_L_BL_label_i2_j1.tif\n",
      "processed/F1_test_ch1_Z0091_L_BL_image_i2_j2.tif processed/F1_test_ch1_Z0091_L_BL_label_i2_j2.tif\n",
      "processed/F1_test_ch1_Z0091_L_BR_image_i0_j0.tif processed/F1_test_ch1_Z0091_L_BR_label_i0_j0.tif\n",
      "processed/F1_test_ch1_Z0091_L_BR_image_i0_j1.tif processed/F1_test_ch1_Z0091_L_BR_label_i0_j1.tif\n",
      "processed/F1_test_ch1_Z0091_L_BR_image_i0_j2.tif processed/F1_test_ch1_Z0091_L_BR_label_i0_j2.tif\n",
      "processed/F1_test_ch1_Z0091_L_BR_image_i1_j0.tif processed/F1_test_ch1_Z0091_L_BR_label_i1_j0.tif\n",
      "processed/F1_test_ch1_Z0091_L_BR_image_i1_j1.tif processed/F1_test_ch1_Z0091_L_BR_label_i1_j1.tif\n"
     ]
    },
    {
     "name": "stderr",
     "output_type": "stream",
     "text": [
      "\r",
      "5it [00:02,  2.22it/s]"
     ]
    },
    {
     "name": "stdout",
     "output_type": "stream",
     "text": [
      "processed/F1_test_ch1_Z0091_L_BR_image_i1_j2.tif processed/F1_test_ch1_Z0091_L_BR_label_i1_j2.tif\n",
      "processed/F1_test_ch1_Z0091_L_BR_image_i2_j0_empty.tif processed/F1_test_ch1_Z0091_L_BR_label_i2_j0_empty.tif\n",
      "processed/F1_test_ch1_Z0091_L_BR_image_i2_j1_empty.tif processed/F1_test_ch1_Z0091_L_BR_label_i2_j1_empty.tif\n",
      "processed/F1_test_ch1_Z0091_L_BR_image_i2_j2.tif processed/F1_test_ch1_Z0091_L_BR_label_i2_j2.tif\n",
      "processed/F1_test_ch1_Z0091_L_UR_image_i0_j0.tif processed/F1_test_ch1_Z0091_L_UR_label_i0_j0.tif\n",
      "processed/F1_test_ch1_Z0091_L_UR_image_i0_j1.tif processed/F1_test_ch1_Z0091_L_UR_label_i0_j1.tif\n",
      "processed/F1_test_ch1_Z0091_L_UR_image_i0_j2.tif processed/F1_test_ch1_Z0091_L_UR_label_i0_j2.tif\n",
      "processed/F1_test_ch1_Z0091_L_UR_image_i1_j0.tif processed/F1_test_ch1_Z0091_L_UR_label_i1_j0.tif\n",
      "processed/F1_test_ch1_Z0091_L_UR_image_i1_j1.tif processed/F1_test_ch1_Z0091_L_UR_label_i1_j1.tif\n",
      "processed/F1_test_ch1_Z0091_L_UR_image_i1_j2.tif processed/F1_test_ch1_Z0091_L_UR_label_i1_j2.tif\n"
     ]
    },
    {
     "name": "stderr",
     "output_type": "stream",
     "text": [
      "\r",
      "6it [00:02,  2.25it/s]"
     ]
    },
    {
     "name": "stdout",
     "output_type": "stream",
     "text": [
      "processed/F1_test_ch1_Z0091_L_UR_image_i2_j0.tif processed/F1_test_ch1_Z0091_L_UR_label_i2_j0.tif\n",
      "processed/F1_test_ch1_Z0091_L_UR_image_i2_j1.tif processed/F1_test_ch1_Z0091_L_UR_label_i2_j1.tif\n",
      "processed/F1_test_ch1_Z0091_L_UR_image_i2_j2.tif processed/F1_test_ch1_Z0091_L_UR_label_i2_j2.tif\n",
      "processed/M2_test_Ch1_Z0071_R_BL_image_i0_j0.tif processed/M2_test_Ch1_Z0071_R_BL_label_i0_j0.tif\n",
      "processed/M2_test_Ch1_Z0071_R_BL_image_i0_j1.tif processed/M2_test_Ch1_Z0071_R_BL_label_i0_j1.tif\n"
     ]
    },
    {
     "name": "stderr",
     "output_type": "stream",
     "text": [
      "\r",
      "7it [00:02,  2.64it/s]"
     ]
    },
    {
     "name": "stdout",
     "output_type": "stream",
     "text": [
      "processed/M2_test_Ch1_Z0071_R_BL_image_i0_j2.tif processed/M2_test_Ch1_Z0071_R_BL_label_i0_j2.tif\n",
      "processed/M2_test_Ch1_Z0071_R_BL_image_i1_j0.tif processed/M2_test_Ch1_Z0071_R_BL_label_i1_j0.tif\n",
      "processed/M2_test_Ch1_Z0071_R_BL_image_i1_j1.tif processed/M2_test_Ch1_Z0071_R_BL_label_i1_j1.tif\n",
      "processed/M2_test_Ch1_Z0071_R_BL_image_i1_j2.tif processed/M2_test_Ch1_Z0071_R_BL_label_i1_j2.tif\n",
      "processed/M2_test_Ch1_Z0071_R_BL_image_i2_j0.tif processed/M2_test_Ch1_Z0071_R_BL_label_i2_j0.tif\n",
      "processed/M2_test_Ch1_Z0071_R_BL_image_i2_j1.tif processed/M2_test_Ch1_Z0071_R_BL_label_i2_j1.tif\n",
      "processed/M2_test_Ch1_Z0071_R_BL_image_i2_j2.tif processed/M2_test_Ch1_Z0071_R_BL_label_i2_j2.tif\n"
     ]
    },
    {
     "name": "stderr",
     "output_type": "stream",
     "text": [
      "\r",
      "8it [00:03,  2.78it/s]"
     ]
    },
    {
     "name": "stdout",
     "output_type": "stream",
     "text": [
      "processed/M2_test_Ch1_Z0071_R_BR_image_i0_j0.tif processed/M2_test_Ch1_Z0071_R_BR_label_i0_j0.tif\n",
      "processed/M2_test_Ch1_Z0071_R_BR_image_i0_j1.tif processed/M2_test_Ch1_Z0071_R_BR_label_i0_j1.tif\n",
      "processed/M2_test_Ch1_Z0071_R_BR_image_i0_j2.tif processed/M2_test_Ch1_Z0071_R_BR_label_i0_j2.tif\n",
      "processed/M2_test_Ch1_Z0071_R_BR_image_i1_j0.tif processed/M2_test_Ch1_Z0071_R_BR_label_i1_j0.tif\n",
      "processed/M2_test_Ch1_Z0071_R_BR_image_i1_j1.tif processed/M2_test_Ch1_Z0071_R_BR_label_i1_j1.tif\n",
      "processed/M2_test_Ch1_Z0071_R_BR_image_i1_j2.tif processed/M2_test_Ch1_Z0071_R_BR_label_i1_j2.tif\n",
      "processed/M2_test_Ch1_Z0071_R_BR_image_i2_j0.tif processed/M2_test_Ch1_Z0071_R_BR_label_i2_j0.tif\n",
      "processed/M2_test_Ch1_Z0071_R_BR_image_i2_j1.tif processed/M2_test_Ch1_Z0071_R_BR_label_i2_j1.tif\n",
      "processed/M2_test_Ch1_Z0071_R_BR_image_i2_j2.tif processed/M2_test_Ch1_Z0071_R_BR_label_i2_j2.tif\n",
      "processed/M2_test_Ch1_Z0071_R_UL_image_i0_j0.tif processed/M2_test_Ch1_Z0071_R_UL_label_i0_j0.tif\n",
      "processed/M2_test_Ch1_Z0071_R_UL_image_i0_j1.tif processed/M2_test_Ch1_Z0071_R_UL_label_i0_j1.tif\n",
      "processed/M2_test_Ch1_Z0071_R_UL_image_i0_j2.tif processed/M2_test_Ch1_Z0071_R_UL_label_i0_j2.tif\n",
      "processed/M2_test_Ch1_Z0071_R_UL_image_i1_j0.tif processed/M2_test_Ch1_Z0071_R_UL_label_i1_j0.tif\n",
      "processed/M2_test_Ch1_Z0071_R_UL_image_i1_j1.tif processed/M2_test_Ch1_Z0071_R_UL_label_i1_j1.tif\n",
      "processed/M2_test_Ch1_Z0071_R_UL_image_i1_j2.tif processed/M2_test_Ch1_Z0071_R_UL_label_i1_j2.tif\n",
      "processed/M2_test_Ch1_Z0071_R_UL_image_i2_j0.tif processed/M2_test_Ch1_Z0071_R_UL_label_i2_j0.tif\n",
      "processed/M2_test_Ch1_Z0071_R_UL_image_i2_j1.tif processed/M2_test_Ch1_Z0071_R_UL_label_i2_j1.tif\n",
      "processed/M2_test_Ch1_Z0071_R_UL_image_i2_j2.tif processed/M2_test_Ch1_Z0071_R_UL_label_i2_j2.tif\n"
     ]
    },
    {
     "name": "stderr",
     "output_type": "stream",
     "text": [
      "9it [00:03,  2.98it/s]\n"
     ]
    }
   ],
   "source": [
    "from tqdm import tqdm\n",
    "empty = 0\n",
    "popu = 0\n",
    "\n",
    "for image_path,label_path in tqdm(zip(images,labels)):\n",
    "    image = cv.imread(image_path.as_posix(), cv.COLOR_BGR2GRAY)\n",
    "    label = cv.imread(label_path.as_posix(), cv.COLOR_BGR2GRAY)\n",
    "\n",
    "    if image.shape != label.shape:\n",
    "        raise ValueError(image_path.as_posix() + label_path.as_posix())\n",
    "    i_max = image.shape[0]//l\n",
    "    j_max = image.shape[1]//l\n",
    "\n",
    "# If the cells were labelled as 255, or something else mistakenly, instead of 1.\n",
    "    label[label!=0]=1\n",
    "\n",
    "    for i in range(i_max):\n",
    "        for j in range(j_max):\n",
    "            cropped_image = image[l*i:l*(i+1), l*j:l*(j+1)]\n",
    "            cropped_label = label[l*i:l*(i+1), l*j:l*(j+1)]\n",
    "            \n",
    "            if (cropped_label!=0).any():\n",
    "                popu+=1\n",
    "                cropped_image_path = processed_dir/(image_path.stem + \"_i\" + str(i) + \"_j\" + str(j) + image_path.suffix)\n",
    "                cropped_label_path = processed_dir/(label_path.stem + \"_i\" + str(i) + \"_j\" + str(j) + label_path.suffix)\n",
    "            else:\n",
    "                empty+=1\n",
    "                cropped_image_path = processed_dir/(image_path.stem + \"_i\" + str(i) + \"_j\" + str(j) + \"_empty\" + image_path.suffix)\n",
    "                cropped_label_path = processed_dir/(label_path.stem + \"_i\" + str(i) + \"_j\" + str(j) + \"_empty\" + label_path.suffix)\n",
    "            print(cropped_image_path, cropped_label_path)    \n",
    "            cv.imwrite(cropped_image_path.as_posix(), cropped_image)\n",
    "            cv.imwrite(cropped_label_path.as_posix(), cropped_label)\n",
    "            \n",
    "            if not os.path.isfile(cropped_image_path.as_posix()):\n",
    "                print(cropped_image_path.as_posix())"
   ]
  },
  {
   "cell_type": "code",
   "execution_count": 121,
   "metadata": {},
   "outputs": [
    {
     "data": {
      "text/plain": [
       "True"
      ]
     },
     "execution_count": 121,
     "metadata": {},
     "output_type": "execute_result"
    }
   ],
   "source": [
    "os.path.isfile(\"processed/M2_test_Ch1_Z0071_R_BR_image_i1_j1.tif\")"
   ]
  },
  {
   "cell_type": "code",
   "execution_count": 122,
   "metadata": {},
   "outputs": [
    {
     "name": "stdout",
     "output_type": "stream",
     "text": [
      "76\n",
      "5\n"
     ]
    }
   ],
   "source": [
    "print(popu)\n",
    "print(empty)"
   ]
  },
  {
   "cell_type": "code",
   "execution_count": 123,
   "metadata": {},
   "outputs": [
    {
     "data": {
      "text/plain": [
       "162"
      ]
     },
     "execution_count": 123,
     "metadata": {},
     "output_type": "execute_result"
    }
   ],
   "source": [
    "processed_dir.ls().__len__()"
   ]
  },
  {
   "cell_type": "markdown",
   "metadata": {},
   "source": [
    "# DataBunch"
   ]
  },
  {
   "cell_type": "code",
   "execution_count": 124,
   "metadata": {},
   "outputs": [],
   "source": [
    "torch.cuda.set_device(0)"
   ]
  },
  {
   "cell_type": "code",
   "execution_count": 125,
   "metadata": {},
   "outputs": [],
   "source": [
    "transforms = get_transforms(\n",
    "    do_flip = True,\n",
    "    flip_vert = True,\n",
    "    max_zoom = 1, #consider\n",
    "    max_rotate = 0,\n",
    "    max_lighting = None,\n",
    "    max_warp = None,\n",
    "    p_affine = 0.75,\n",
    "    p_lighting = 0.75)"
   ]
  },
  {
   "cell_type": "code",
   "execution_count": 129,
   "metadata": {},
   "outputs": [],
   "source": [
    "get_label_from_image = lambda path: re.sub(r'_image_', '_label_', path.as_posix())\n",
    "codes = [\"NOT-CELL\", \"CELL\"]\n",
    "\n",
    "bs = 16\n",
    "\n",
    "src = (\n",
    "    SegmentationItemList.from_folder(processed_dir)\n",
    "    .filter_by_func(lambda fname:'image' in Path(fname).name)\n",
    "    .split_by_rand_pct(valid_pct=0.10, seed=2)\n",
    "    .label_from_func(get_label_from_image, classes=codes)\n",
    ")\n",
    "data = (\n",
    "    src.transform(transforms, tfm_y=True)\n",
    "    .databunch(bs=bs)\n",
    "    .normalize(imagenet_stats)\n",
    ")"
   ]
  },
  {
   "cell_type": "code",
   "execution_count": 130,
   "metadata": {},
   "outputs": [
    {
     "data": {
      "text/plain": [
       "ImageDataBunch;\n",
       "\n",
       "Train: LabelList (73 items)\n",
       "x: SegmentationItemList\n",
       "Image (3, 224, 224),Image (3, 224, 224),Image (3, 224, 224),Image (3, 224, 224),Image (3, 224, 224)\n",
       "y: SegmentationLabelList\n",
       "ImageSegment (1, 224, 224),ImageSegment (1, 224, 224),ImageSegment (1, 224, 224),ImageSegment (1, 224, 224),ImageSegment (1, 224, 224)\n",
       "Path: processed;\n",
       "\n",
       "Valid: LabelList (8 items)\n",
       "x: SegmentationItemList\n",
       "Image (3, 224, 224),Image (3, 224, 224),Image (3, 224, 224),Image (3, 224, 224),Image (3, 224, 224)\n",
       "y: SegmentationLabelList\n",
       "ImageSegment (1, 224, 224),ImageSegment (1, 224, 224),ImageSegment (1, 224, 224),ImageSegment (1, 224, 224),ImageSegment (1, 224, 224)\n",
       "Path: processed;\n",
       "\n",
       "Test: None"
      ]
     },
     "execution_count": 130,
     "metadata": {},
     "output_type": "execute_result"
    }
   ],
   "source": [
    "data"
   ]
  },
  {
   "cell_type": "code",
   "execution_count": 131,
   "metadata": {},
   "outputs": [],
   "source": [
    "# https://www.kaggle.com/iafoss/hypercolumns-pneumothorax-fastai-0-831-lb\n",
    "from fastai.callbacks import SaveModelCallback\n",
    "from fastai.vision.learner import create_head, cnn_config, num_features_model, create_head\n",
    "from fastai.callbacks.hooks import model_sizes, hook_outputs, dummy_eval, Hook, _hook_inner\n",
    "from fastai.vision.models.unet import _get_sfs_idxs, UnetBlock\n",
    "\n",
    "class Hcolumns(nn.Module):\n",
    "    def __init__(self, hooks:Collection[Hook], nc:Collection[int]=None):\n",
    "        super(Hcolumns,self).__init__()\n",
    "        self.hooks = hooks\n",
    "        self.n = len(self.hooks)\n",
    "        self.factorization = None \n",
    "        if nc is not None:\n",
    "            self.factorization = nn.ModuleList()\n",
    "            for i in range(self.n):\n",
    "                self.factorization.append(nn.Sequential(\n",
    "                    conv2d(nc[i],nc[-1],3,padding=1,bias=True),\n",
    "                    conv2d(nc[-1],nc[-1],3,padding=1,bias=True)))\n",
    "                #self.factorization.append(conv2d(nc[i],nc[-1],3,padding=1,bias=True))\n",
    "        \n",
    "    def forward(self, x:Tensor):\n",
    "        n = len(self.hooks)\n",
    "        out = [F.interpolate(self.hooks[i].stored if self.factorization is None\n",
    "            else self.factorization[i](self.hooks[i].stored), scale_factor=2**(self.n-i),\n",
    "            mode='bilinear',align_corners=False) for i in range(self.n)] + [x]\n",
    "        return torch.cat(out, dim=1)\n",
    "\n",
    "class DynamicUnet_Hcolumns(SequentialEx):\n",
    "    \"Create a U-Net from a given architecture.\"\n",
    "    def __init__(self, encoder:nn.Module, n_classes:int, blur:bool=False, blur_final=True, \n",
    "                 self_attention:bool=False,\n",
    "                 y_range:Optional[Tuple[float,float]]=None,\n",
    "                 last_cross:bool=True, bottle:bool=False, **kwargs):\n",
    "        imsize = (256,256)\n",
    "        sfs_szs = model_sizes(encoder, size=imsize)\n",
    "        sfs_idxs = list(reversed(_get_sfs_idxs(sfs_szs)))\n",
    "        self.sfs = hook_outputs([encoder[i] for i in sfs_idxs])\n",
    "        x = dummy_eval(encoder, imsize).detach()\n",
    "\n",
    "        ni = sfs_szs[-1][1]\n",
    "        middle_conv = nn.Sequential(conv_layer(ni, ni*2, **kwargs),\n",
    "                                    conv_layer(ni*2, ni, **kwargs)).eval()\n",
    "        x = middle_conv(x)\n",
    "        layers = [encoder, batchnorm_2d(ni), nn.ReLU(), middle_conv]\n",
    "\n",
    "        self.hc_hooks = [Hook(layers[-1], _hook_inner, detach=False)]\n",
    "        hc_c = [x.shape[1]]\n",
    "        \n",
    "        for i,idx in enumerate(sfs_idxs):\n",
    "            not_final = i!=len(sfs_idxs)-1\n",
    "            up_in_c, x_in_c = int(x.shape[1]), int(sfs_szs[idx][1])\n",
    "            do_blur = blur and (not_final or blur_final)\n",
    "            sa = self_attention and (i==len(sfs_idxs)-3)\n",
    "            unet_block = UnetBlock(up_in_c, x_in_c, self.sfs[i], final_div=not_final, \n",
    "                blur=blur, self_attention=sa, **kwargs).eval()\n",
    "            layers.append(unet_block)\n",
    "            x = unet_block(x)\n",
    "            self.hc_hooks.append(Hook(layers[-1], _hook_inner, detach=False))\n",
    "            hc_c.append(x.shape[1])\n",
    "\n",
    "        ni = x.shape[1]\n",
    "        if imsize != sfs_szs[0][-2:]: layers.append(PixelShuffle_ICNR(ni, **kwargs))\n",
    "        if last_cross:\n",
    "            layers.append(MergeLayer(dense=True))\n",
    "            ni += in_channels(encoder)\n",
    "            layers.append(res_block(ni, bottle=bottle, **kwargs))\n",
    "        hc_c.append(ni)\n",
    "        layers.append(Hcolumns(self.hc_hooks, hc_c))\n",
    "        layers += [conv_layer(ni*len(hc_c), n_classes, ks=1, use_activ=False, **kwargs)]\n",
    "        if y_range is not None: layers.append(SigmoidRange(*y_range))\n",
    "        super().__init__(*layers)\n",
    "\n",
    "    def __del__(self):\n",
    "        if hasattr(self, \"sfs\"): self.sfs.remove()\n",
    "            \n",
    "def unet_learner(data:DataBunch, arch:Callable, pretrained:bool=True, blur_final:bool=True,\n",
    "        norm_type:Optional[NormType]=NormType, split_on:Optional[SplitFuncOrIdxList]=None, \n",
    "        blur:bool=False, self_attention:bool=False, y_range:Optional[Tuple[float,float]]=None, \n",
    "        last_cross:bool=True, bottle:bool=False, cut=None, \n",
    "        hypercolumns=True, **learn_kwargs:Any)->Learner:\n",
    "    \"Build Unet learner from `data` and `arch`.\"\n",
    "    meta = cnn_config(arch)\n",
    "    body = create_body(arch, pretrained, cut)\n",
    "    M = DynamicUnet_Hcolumns if hypercolumns else DynamicUnet\n",
    "    model = to_device(M(body, n_classes=data.c, blur=blur, blur_final=blur_final,\n",
    "        self_attention=self_attention, y_range=y_range, norm_type=norm_type, \n",
    "        last_cross=last_cross, bottle=bottle), data.device)\n",
    "    learn = Learner(data, model, **learn_kwargs)\n",
    "    learn.split(ifnone(split_on, meta['split']))\n",
    "    if pretrained: learn.freeze()\n",
    "    apply_init(model[2], nn.init.kaiming_normal_)\n",
    "    return learn"
   ]
  },
  {
   "cell_type": "code",
   "execution_count": 150,
   "metadata": {},
   "outputs": [],
   "source": [
    "learn = unet_learner(\n",
    "    data,\n",
    "    models.resnet34,\n",
    "    metrics=partial(dice, iou=True),\n",
    "    model_dir='..')"
   ]
  },
  {
   "cell_type": "code",
   "execution_count": 133,
   "metadata": {},
   "outputs": [
    {
     "data": {
      "text/html": [],
      "text/plain": [
       "<IPython.core.display.HTML object>"
      ]
     },
     "metadata": {},
     "output_type": "display_data"
    },
    {
     "name": "stdout",
     "output_type": "stream",
     "text": [
      "LR Finder is complete, type {learner_name}.recorder.plot() to see the graph.\n",
      "Min numerical gradient: 5.75E-06\n",
      "Min loss divided by 10: 4.37E-04\n"
     ]
    },
    {
     "data": {
      "image/png": "[encoded data removed]",
      "text/plain": [
       "<Figure size 432x288 with 1 Axes>"
      ]
     },
     "metadata": {
      "needs_background": "light"
     },
     "output_type": "display_data"
    }
   ],
   "source": [
    "lr_find(learn)\n",
    "learn.recorder.plot(suggestion=True)"
   ]
  },
  {
   "cell_type": "code",
   "execution_count": 151,
   "metadata": {},
   "outputs": [
    {
     "data": {
      "text/html": [
       "<table border=\"1\" class=\"dataframe\">\n",
       "  <thead>\n",
       "    <tr style=\"text-align: left;\">\n",
       "      <th>epoch</th>\n",
       "      <th>train_loss</th>\n",
       "      <th>valid_loss</th>\n",
       "      <th>dice</th>\n",
       "      <th>time</th>\n",
       "    </tr>\n",
       "  </thead>\n",
       "  <tbody>\n",
       "    <tr>\n",
       "      <td>0</td>\n",
       "      <td>0.231057</td>\n",
       "      <td>0.099319</td>\n",
       "      <td>0.000000</td>\n",
       "      <td>00:03</td>\n",
       "    </tr>\n",
       "    <tr>\n",
       "      <td>1</td>\n",
       "      <td>0.197444</td>\n",
       "      <td>0.239626</td>\n",
       "      <td>0.000000</td>\n",
       "      <td>00:03</td>\n",
       "    </tr>\n",
       "    <tr>\n",
       "      <td>2</td>\n",
       "      <td>0.197837</td>\n",
       "      <td>0.177542</td>\n",
       "      <td>0.000000</td>\n",
       "      <td>00:03</td>\n",
       "    </tr>\n",
       "    <tr>\n",
       "      <td>3</td>\n",
       "      <td>0.162891</td>\n",
       "      <td>0.057791</td>\n",
       "      <td>0.083697</td>\n",
       "      <td>00:03</td>\n",
       "    </tr>\n",
       "    <tr>\n",
       "      <td>4</td>\n",
       "      <td>0.132940</td>\n",
       "      <td>0.060251</td>\n",
       "      <td>0.017964</td>\n",
       "      <td>00:03</td>\n",
       "    </tr>\n",
       "    <tr>\n",
       "      <td>5</td>\n",
       "      <td>0.110390</td>\n",
       "      <td>0.016913</td>\n",
       "      <td>0.379002</td>\n",
       "      <td>00:03</td>\n",
       "    </tr>\n",
       "    <tr>\n",
       "      <td>6</td>\n",
       "      <td>0.093829</td>\n",
       "      <td>0.020910</td>\n",
       "      <td>0.258053</td>\n",
       "      <td>00:03</td>\n",
       "    </tr>\n",
       "    <tr>\n",
       "      <td>7</td>\n",
       "      <td>0.081159</td>\n",
       "      <td>0.019366</td>\n",
       "      <td>0.265619</td>\n",
       "      <td>00:03</td>\n",
       "    </tr>\n",
       "    <tr>\n",
       "      <td>8</td>\n",
       "      <td>0.071169</td>\n",
       "      <td>0.016598</td>\n",
       "      <td>0.417368</td>\n",
       "      <td>00:03</td>\n",
       "    </tr>\n",
       "    <tr>\n",
       "      <td>9</td>\n",
       "      <td>0.063221</td>\n",
       "      <td>0.015305</td>\n",
       "      <td>0.366068</td>\n",
       "      <td>00:03</td>\n",
       "    </tr>\n",
       "    <tr>\n",
       "      <td>10</td>\n",
       "      <td>0.056662</td>\n",
       "      <td>0.015471</td>\n",
       "      <td>0.352228</td>\n",
       "      <td>00:03</td>\n",
       "    </tr>\n",
       "    <tr>\n",
       "      <td>11</td>\n",
       "      <td>0.051170</td>\n",
       "      <td>0.014612</td>\n",
       "      <td>0.384911</td>\n",
       "      <td>00:03</td>\n",
       "    </tr>\n",
       "    <tr>\n",
       "      <td>12</td>\n",
       "      <td>0.046575</td>\n",
       "      <td>0.013973</td>\n",
       "      <td>0.419289</td>\n",
       "      <td>00:03</td>\n",
       "    </tr>\n",
       "    <tr>\n",
       "      <td>13</td>\n",
       "      <td>0.042688</td>\n",
       "      <td>0.013558</td>\n",
       "      <td>0.440444</td>\n",
       "      <td>00:03</td>\n",
       "    </tr>\n",
       "    <tr>\n",
       "      <td>14</td>\n",
       "      <td>0.039436</td>\n",
       "      <td>0.013315</td>\n",
       "      <td>0.446589</td>\n",
       "      <td>00:03</td>\n",
       "    </tr>\n",
       "  </tbody>\n",
       "</table>"
      ],
      "text/plain": [
       "<IPython.core.display.HTML object>"
      ]
     },
     "metadata": {},
     "output_type": "display_data"
    }
   ],
   "source": [
    "lr = 5e-4\n",
    "learn.fit_one_cycle(15, lr)"
   ]
  },
  {
   "cell_type": "code",
   "execution_count": 152,
   "metadata": {},
   "outputs": [
    {
     "data": {
      "image/png": "[encoded data removed]",
      "text/plain": [
       "<Figure size 432x288 with 1 Axes>"
      ]
     },
     "metadata": {
      "needs_background": "light"
     },
     "output_type": "display_data"
    }
   ],
   "source": [
    "learn.recorder.plot_losses()"
   ]
  },
  {
   "cell_type": "code",
   "execution_count": 153,
   "metadata": {},
   "outputs": [],
   "source": [
    "learn.save(\"stage1\")"
   ]
  },
  {
   "cell_type": "code",
   "execution_count": 154,
   "metadata": {},
   "outputs": [],
   "source": [
    "learn.load(\"stage1\");"
   ]
  },
  {
   "cell_type": "code",
   "execution_count": 155,
   "metadata": {},
   "outputs": [],
   "source": [
    "learn.unfreeze()"
   ]
  },
  {
   "cell_type": "code",
   "execution_count": 156,
   "metadata": {},
   "outputs": [],
   "source": [
    "lrs = slice(lr/800,lr/8)"
   ]
  },
  {
   "cell_type": "code",
   "execution_count": 157,
   "metadata": {},
   "outputs": [
    {
     "data": {
      "text/html": [
       "<table border=\"1\" class=\"dataframe\">\n",
       "  <thead>\n",
       "    <tr style=\"text-align: left;\">\n",
       "      <th>epoch</th>\n",
       "      <th>train_loss</th>\n",
       "      <th>valid_loss</th>\n",
       "      <th>dice</th>\n",
       "      <th>time</th>\n",
       "    </tr>\n",
       "  </thead>\n",
       "  <tbody>\n",
       "    <tr>\n",
       "      <td>0</td>\n",
       "      <td>0.012447</td>\n",
       "      <td>0.013156</td>\n",
       "      <td>0.450648</td>\n",
       "      <td>00:03</td>\n",
       "    </tr>\n",
       "    <tr>\n",
       "      <td>1</td>\n",
       "      <td>0.012304</td>\n",
       "      <td>0.012899</td>\n",
       "      <td>0.458974</td>\n",
       "      <td>00:03</td>\n",
       "    </tr>\n",
       "    <tr>\n",
       "      <td>2</td>\n",
       "      <td>0.012304</td>\n",
       "      <td>0.012716</td>\n",
       "      <td>0.459060</td>\n",
       "      <td>00:03</td>\n",
       "    </tr>\n",
       "    <tr>\n",
       "      <td>3</td>\n",
       "      <td>0.012361</td>\n",
       "      <td>0.012469</td>\n",
       "      <td>0.469658</td>\n",
       "      <td>00:03</td>\n",
       "    </tr>\n",
       "    <tr>\n",
       "      <td>4</td>\n",
       "      <td>0.012150</td>\n",
       "      <td>0.012293</td>\n",
       "      <td>0.466074</td>\n",
       "      <td>00:03</td>\n",
       "    </tr>\n",
       "    <tr>\n",
       "      <td>5</td>\n",
       "      <td>0.012080</td>\n",
       "      <td>0.011862</td>\n",
       "      <td>0.483664</td>\n",
       "      <td>00:03</td>\n",
       "    </tr>\n",
       "    <tr>\n",
       "      <td>6</td>\n",
       "      <td>0.011808</td>\n",
       "      <td>0.011492</td>\n",
       "      <td>0.467277</td>\n",
       "      <td>00:03</td>\n",
       "    </tr>\n",
       "    <tr>\n",
       "      <td>7</td>\n",
       "      <td>0.011567</td>\n",
       "      <td>0.011418</td>\n",
       "      <td>0.442334</td>\n",
       "      <td>00:03</td>\n",
       "    </tr>\n",
       "    <tr>\n",
       "      <td>8</td>\n",
       "      <td>0.011352</td>\n",
       "      <td>0.011367</td>\n",
       "      <td>0.433962</td>\n",
       "      <td>00:03</td>\n",
       "    </tr>\n",
       "    <tr>\n",
       "      <td>9</td>\n",
       "      <td>0.011214</td>\n",
       "      <td>0.010338</td>\n",
       "      <td>0.495635</td>\n",
       "      <td>00:03</td>\n",
       "    </tr>\n",
       "    <tr>\n",
       "      <td>10</td>\n",
       "      <td>0.010998</td>\n",
       "      <td>0.010139</td>\n",
       "      <td>0.497238</td>\n",
       "      <td>00:03</td>\n",
       "    </tr>\n",
       "    <tr>\n",
       "      <td>11</td>\n",
       "      <td>0.010764</td>\n",
       "      <td>0.010204</td>\n",
       "      <td>0.485440</td>\n",
       "      <td>00:03</td>\n",
       "    </tr>\n",
       "  </tbody>\n",
       "</table>"
      ],
      "text/plain": [
       "<IPython.core.display.HTML object>"
      ]
     },
     "metadata": {},
     "output_type": "display_data"
    }
   ],
   "source": [
    "learn.fit_one_cycle(12, lrs, pct_start=0.8)\n",
    "# learn.fit_one_cycle(12, lrs)"
   ]
  },
  {
   "cell_type": "code",
   "execution_count": 158,
   "metadata": {},
   "outputs": [],
   "source": [
    "learn.save(\"stage2\")"
   ]
  },
  {
   "cell_type": "code",
   "execution_count": 160,
   "metadata": {},
   "outputs": [],
   "source": [
    "learn.export(file = \"../models/2019-10-27_RESNET34-hcolumns_zdenka_channel1_prelim.pkl\")"
   ]
  },
  {
   "cell_type": "markdown",
   "metadata": {},
   "source": [
    "# Check"
   ]
  },
  {
   "cell_type": "code",
   "execution_count": 161,
   "metadata": {},
   "outputs": [],
   "source": [
    "preds = learn.get_preds()"
   ]
  },
  {
   "cell_type": "code",
   "execution_count": 162,
   "metadata": {},
   "outputs": [],
   "source": [
    "if learn.data.valid_ds.__len__() == preds[1].shape[0]:\n",
    "    N = learn.data.valid_ds.__len__()\n",
    "else:\n",
    "    raise ValueError()\n",
    "\n",
    "xs = [learn.data.valid_ds[i][0] for i in range(N)]\n",
    "ys = [learn.data.valid_ds[i][1] for i in range(N)]\n",
    "p0s = [Image(preds[0][i][0]) for i in range(N)]\n",
    "p1s = [Image(preds[0][i][1]) for i in range(N)]\n",
    "argmax = [Image(preds[0][i].argmax(dim=0)) for i in range(N)]"
   ]
  },
  {
   "cell_type": "code",
   "execution_count": 164,
   "metadata": {},
   "outputs": [
    {
     "data": {
      "image/png": "[encoded data removed]",
      "text/plain": [
       "<Figure size 864x1080 with 7 Axes>"
      ]
     },
     "metadata": {
      "needs_background": "light"
     },
     "output_type": "display_data"
    }
   ],
   "source": [
    "ncol = 3\n",
    "nrow = N//ncol + 1\n",
    "fig=plt.figure(figsize=(12, nrow*5))\n",
    "for i in range(1,N):\n",
    "    fig.add_subplot(nrow, ncol, i)\n",
    "#     plt.imshow(xs[i-1].px.permute(1, 2, 0), cmap = \"Oranges\", alpha=0.5)\n",
    "    plt.imshow(argmax[i-1].px, cmap = \"Blues\", alpha=0.7)\n",
    "#     plt.imshow(p1s[i-1].px, cmap = \"Blues\", alpha=0.7)\n",
    "    plt.imshow(ys[i-1].px[0], cmap = \"Oranges\", alpha=0.5)\n",
    "plt.savefig('2019-10-27_zdenka_channel1_prelim_results.png')\n",
    "plt.show()"
   ]
  },
  {
   "cell_type": "code",
   "execution_count": 165,
   "metadata": {},
   "outputs": [
    {
     "name": "stdout",
     "output_type": "stream",
     "text": [
      "[NbConvertApp] Converting notebook zdenka-ch1-train.ipynb to html\n",
      "[NbConvertApp] Writing 415473 bytes to nbs/2019-10-27_zdenka_channel1_prelim.html\n"
     ]
    }
   ],
   "source": [
    "!jupyter nbconvert zdenka-ch1-train.ipynb --to html --output nbs/2019-10-27_zdenka_channel1_prelim.html"
   ]
  }
 ],
 "metadata": {
  "kernelspec": {
   "display_name": "Python 3",
   "language": "python",
   "name": "python3"
  },
  "language_info": {
   "codemirror_mode": {
    "name": "ipython",
    "version": 3
   },
   "file_extension": ".py",
   "mimetype": "text/x-python",
   "name": "python",
   "nbconvert_exporter": "python",
   "pygments_lexer": "ipython3",
   "version": "3.7.0"
  }
 },
 "nbformat": 4,
 "nbformat_minor": 2
}
