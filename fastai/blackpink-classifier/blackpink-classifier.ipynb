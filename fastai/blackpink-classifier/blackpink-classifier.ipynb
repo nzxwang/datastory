{
 "cells": [
  {
   "cell_type": "markdown",
   "metadata": {},
   "source": [
    "# FastAi's Course-v3 Method\n",
    "Google images search (type:face)\n",
    "\n",
    "\"jisoo blackpink\"\n",
    "\"jennie blackpink\"\n",
    "\"Rosé blackpink\"\n",
    "\"lisa blackpink\"\n",
    "\n",
    "Scroll down to load more images until \"Show more results\" button comes up.\n",
    "Paste this into console:\n",
    "\n",
    "urls = Array.from(document.querySelectorAll('.rg_di .rg_meta')).map(el=>JSON.parse(el.textContent).ou);\n",
    "window.open('data:text/csv;charset=utf-8,' + escape(urls.join('\\n')));\n",
    "\n",
    "Save the URLs as a csv.\n",
    "\n",
    "# DownAlbum.\n",
    "\n",
    "https://www.pinterest.ca/lulamulala/blackpink-jisoo/social-media/\n",
    "\n",
    "https://www.pinterest.ca/lulamulala/blackpink-jisoo/photoshoot/\n",
    "\n",
    "https://www.pinterest.ca/lulamulala/blackpink-jennie/social-media/\n",
    "\n",
    "https://www.pinterest.ca/lulamulala/blackpink-jennie/photoshoot/\n",
    "\n",
    "https://www.pinterest.ca/lulamulala/blackpink-rose/social-media/\n",
    "\n",
    "https://www.pinterest.ca/lulamulala/blackpink-rose/photoshoot/\n",
    "\n",
    "https://www.pinterest.ca/lulamulala/blackpink-lisa/social-media/\n",
    "\n",
    "https://www.pinterest.ca/lulamulala/blackpink-lisa/photoshoot/"
   ]
  },
  {
   "cell_type": "code",
   "execution_count": null,
   "metadata": {},
   "outputs": [],
   "source": [
    "import fastai.vision\n",
    "from fastai.vision import *\n",
    "from fastai.metrics import *\n",
    "import numpy as np\n",
    "import os\n",
    "import re\n",
    "import shutil\n",
    "import cv2 as cv\n",
    "import matplotlib.pyplot as plt\n",
    "from pathlib import Path"
   ]
  },
  {
   "cell_type": "code",
   "execution_count": null,
   "metadata": {},
   "outputs": [],
   "source": [
    "classes = [\"jisoo\", \"jennie\", \"rose\", \"lisa\"]\n",
    "path = Path('data')"
   ]
  },
  {
   "cell_type": "code",
   "execution_count": null,
   "metadata": {},
   "outputs": [],
   "source": [
    "frontal_face_cascade = cv.CascadeClassifier(cv.data.haarcascades + \"haarcascade_frontalface_default.xml\")"
   ]
  },
  {
   "cell_type": "code",
   "execution_count": null,
   "metadata": {},
   "outputs": [],
   "source": [
    "original_path = Path(\"original_data\")\n",
    "for c in classes:\n",
    "    n=0\n",
    "    print(c)\n",
    "    orig = original_path/c\n",
    "    image_paths = orig.ls()\n",
    "    for image_path in image_paths:\n",
    "        image = cv.imread(image_path.as_posix(), cv.COLOR_BGR2GRAY)\n",
    "        if image is None: continue\n",
    "        short_dim = np.min(image.shape[0:2])\n",
    "        long_dim = np.max(image.shape[0:2])\n",
    "        \n",
    "        frontal_faces = frontal_face_cascade.detectMultiScale(gray, 1.3, 5)\n",
    "        \n",
    "        #want 200 frontal_face-containing and somewhat square images per class\n",
    "        if len(frontal_faces)==1 and long_dim/short_dim<1.2 and n<=200:\n",
    "            n+=1\n",
    "            target = \"data/valid/\"+ c + \"/\" + c + \"_\" + str(n) + \"_\" + image_path.name\n",
    "            print(target)\n",
    "            \n",
    "        else:\n",
    "            target = \"data/train/\"+ c + \"/\" + c + \"_\" + image_path.name\n",
    "            print(target)\n",
    "#         shutil.copy(image_path.as_posix(), target)\n",
    "# I wanted to clean the entire dataset, but I guess its okay if the training set is noisy.\n",
    "#                 center = (frontal_faces[0][1] + frontal_faces[0][3],\n",
    "#                           frontal_faces[0][0] + frontal_faces[0][2])\n",
    "#             elif len(frontal_faces)>1:\n",
    "#                 print(image_path.as_posix() + \" MANY FACES\")\n",
    "#             elif len(frontal_faces)==0:\n",
    "                \n",
    "#         if np.argmin(image.shape[0:2]) == 0: #image is wide"
   ]
  },
  {
   "cell_type": "code",
   "execution_count": null,
   "metadata": {},
   "outputs": [],
   "source": [
    "transforms = get_transforms(\n",
    "    do_flip = True, #D\n",
    "    flip_vert = False,\n",
    "    max_zoom = 1.1, #default 1.1\n",
    "    max_rotate = 10, #default 10\n",
    "    max_lighting = 0.2, #default 0.2\n",
    "    max_warp = 0.1, #default 0.1\n",
    "    p_affine = 0.75, #D\n",
    "    p_lighting = 0.75) #D"
   ]
  },
  {
   "cell_type": "code",
   "execution_count": null,
   "metadata": {},
   "outputs": [],
   "source": [
    "#bs=64 uses about 15220MiB\n",
    "bs=64"
   ]
  },
  {
   "cell_type": "code",
   "execution_count": null,
   "metadata": {},
   "outputs": [],
   "source": [
    "torch.cuda.set_device(0)"
   ]
  },
  {
   "cell_type": "code",
   "execution_count": null,
   "metadata": {},
   "outputs": [],
   "source": [
    "np.random.seed(42)\n",
    "\n",
    "data = (ImageDataBunch\n",
    "        .from_folder(path,\n",
    "                     train=\"train\", valid=\"valid\", bs=bs,\n",
    "                     ds_tfms=transforms, size=336)\n",
    "#         .filter_by_func(lambda fname:\"Blackpink\" in Path(fname).as_posix())\n",
    "        .normalize(imagenet_stats))"
   ]
  },
  {
   "cell_type": "code",
   "execution_count": null,
   "metadata": {},
   "outputs": [],
   "source": [
    "data.show_batch(rows=3, figsize=(7,8), ds_type=DatasetType.Valid)"
   ]
  },
  {
   "cell_type": "code",
   "execution_count": null,
   "metadata": {},
   "outputs": [],
   "source": [
    "data.show_batch(rows=3, figsize=(7,8))"
   ]
  },
  {
   "cell_type": "code",
   "execution_count": null,
   "metadata": {},
   "outputs": [],
   "source": [
    "learn = cnn_learner(data, models.resnet50, metrics=error_rate)"
   ]
  },
  {
   "cell_type": "code",
   "execution_count": null,
   "metadata": {},
   "outputs": [],
   "source": [
    "lr_find(learn)\n",
    "learn.recorder.plot()"
   ]
  },
  {
   "cell_type": "code",
   "execution_count": null,
   "metadata": {},
   "outputs": [],
   "source": [
    "lr=2e-2\n",
    "learn.fit_one_cycle(10, lr)"
   ]
  },
  {
   "cell_type": "code",
   "execution_count": null,
   "metadata": {},
   "outputs": [],
   "source": [
    "learn.recorder.plot_losses()"
   ]
  },
  {
   "cell_type": "code",
   "execution_count": null,
   "metadata": {},
   "outputs": [],
   "source": [
    "learn.show_results(rows=10, shuffle=True)"
   ]
  },
  {
   "cell_type": "code",
   "execution_count": null,
   "metadata": {},
   "outputs": [],
   "source": [
    "interp = ClassificationInterpretation.from_learner(learn)\n",
    "losses,idxs = interp.top_losses()"
   ]
  },
  {
   "cell_type": "code",
   "execution_count": null,
   "metadata": {},
   "outputs": [],
   "source": [
    "interp.plot_confusion_matrix()"
   ]
  },
  {
   "cell_type": "code",
   "execution_count": null,
   "metadata": {},
   "outputs": [],
   "source": [
    "interp.plot_top_losses(20, figsize=(15,11))"
   ]
  },
  {
   "cell_type": "code",
   "execution_count": null,
   "metadata": {},
   "outputs": [],
   "source": [
    "interp.most_confused(min_val=2)"
   ]
  },
  {
   "cell_type": "code",
   "execution_count": null,
   "metadata": {},
   "outputs": [],
   "source": [
    "model_path = Path(\"../../models\")\n",
    "# learn.save(model_path/\"2019-06-28_RESNET50_10epoch_0.11error\")"
   ]
  },
  {
   "cell_type": "code",
   "execution_count": null,
   "metadata": {},
   "outputs": [],
   "source": [
    "learn.load(model_path/\"2019-06-28_RESNET50_10epoch_0.11error\")"
   ]
  },
  {
   "cell_type": "code",
   "execution_count": null,
   "metadata": {},
   "outputs": [],
   "source": [
    "image_paths = Path(\"predict/tina_kim\").ls()"
   ]
  },
  {
   "cell_type": "code",
   "execution_count": null,
   "metadata": {},
   "outputs": [],
   "source": [
    "for image_path in image_paths:\n",
    "    image = open_image(image_path)\n",
    "    pred_class,pred_idx,outputs = learn.predict(image)\n",
    "    \n",
    "    title = str(pred_class) + \". Probability = \" + str(outputs[pred_idx.item()].item())\n",
    "    image.show(figsize=(4,4), title=title)"
   ]
  },
  {
   "cell_type": "code",
   "execution_count": null,
   "metadata": {},
   "outputs": [],
   "source": [
    "!jupyter nbconvert blackpink-classifier --to html --output nbs/2019-06-29_tina_kim"
   ]
  }
 ],
 "metadata": {
  "kernelspec": {
   "display_name": "Python 3",
   "language": "python",
   "name": "python3"
  },
  "language_info": {
   "codemirror_mode": {
    "name": "ipython",
    "version": 3
   },
   "file_extension": ".py",
   "mimetype": "text/x-python",
   "name": "python",
   "nbconvert_exporter": "python",
   "pygments_lexer": "ipython3",
   "version": "3.7.0"
  }
 },
 "nbformat": 4,
 "nbformat_minor": 2
}
