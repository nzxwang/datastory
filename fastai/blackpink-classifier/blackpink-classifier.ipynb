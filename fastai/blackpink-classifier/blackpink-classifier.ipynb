{
 "cells": [
  {
   "cell_type": "code",
   "execution_count": null,
   "metadata": {},
   "outputs": [],
   "source": [
    "from fastai.vision import *\n",
    "from fastai.metrics import *\n",
    "import numpy as np\n",
    "import os\n",
    "import shutil\n",
    "import cv2 as cv\n",
    "import matplotlib.pyplot as plt\n",
    "from pathlib import Path"
   ]
  },
  {
   "cell_type": "markdown",
   "metadata": {},
   "source": [
    "Google images search (type:face)\n",
    "\n",
    "\"jisoo blackpink\"\n",
    "\"jennie blackpink\"\n",
    "\"Rosé blackpink\"\n",
    "\"lisa blackpink\"\n",
    "\n",
    "Scroll down to load more images until \"Show more results\" button comes up.\n",
    "Paste this into console:\n",
    "\n",
    "urls = Array.from(document.querySelectorAll('.rg_di .rg_meta')).map(el=>JSON.parse(el.textContent).ou);\n",
    "window.open('data:text/csv;charset=utf-8,' + escape(urls.join('\\n')));\n",
    "\n",
    "Save the URLs as a csv.\n",
    "\n",
    "# Nevermind this is trash. Use DownAlbum.\n",
    "\n",
    "https://www.pinterest.ca/lulamulala/blackpink-jisoo/social-media/\n",
    "https://www.pinterest.ca/lulamulala/blackpink-jisoo/photoshoot/\n",
    "https://www.pinterest.ca/lulamulala/blackpink-jennie/social-media/\n",
    "https://www.pinterest.ca/lulamulala/blackpink-jennie/photoshoot/\n",
    "https://www.pinterest.ca/lulamulala/blackpink-rose/social-media/\n",
    "https://www.pinterest.ca/lulamulala/blackpink-rose/photoshoot/\n",
    "https://www.pinterest.ca/lulamulala/blackpink-lisa/social-media/\n",
    "https://www.pinterest.ca/lulamulala/blackpink-lisa/photoshoot/"
   ]
  },
  {
   "cell_type": "code",
   "execution_count": null,
   "metadata": {},
   "outputs": [],
   "source": [
    "classes = [\"jisoo\", \"jennie\", \"rose\", \"lisa\"]\n",
    "path = Path('data')"
   ]
  },
  {
   "cell_type": "code",
   "execution_count": null,
   "metadata": {},
   "outputs": [],
   "source": [
    "img_path = (path/classes[0]).ls()[0]\n",
    "img = cv.imread(img_path.as_posix())\n",
    "gray = cv.cvtColor(img, cv.COLOR_BGR2GRAY)"
   ]
  },
  {
   "cell_type": "code",
   "execution_count": null,
   "metadata": {},
   "outputs": [],
   "source": [
    "plt.imshow(gray, cmap=\"gray\")"
   ]
  },
  {
   "cell_type": "code",
   "execution_count": null,
   "metadata": {},
   "outputs": [],
   "source": [
    "face_cascade = cv.CascadeClassifier('haarcascade_frontalface_default.xml')"
   ]
  },
  {
   "cell_type": "code",
   "execution_count": null,
   "metadata": {},
   "outputs": [],
   "source": [
    "faces = face_cascade.detectMultiScale(gray, 1.3, 5)"
   ]
  },
  {
   "cell_type": "code",
   "execution_count": null,
   "metadata": {},
   "outputs": [],
   "source": [
    "faces"
   ]
  },
  {
   "cell_type": "code",
   "execution_count": null,
   "metadata": {},
   "outputs": [],
   "source": [
    "for (x,y,w,h) in faces:\n",
    "    cv.rectangle(img,(x,y),(x+w,y+h),(255,0,0),2)\n",
    "    roi_gray = gray[y:y+h, x:x+w]\n",
    "    roi_color = img[y:y+h, x:x+w]\n",
    "plt.imshow(img, cmap=\"gray\")"
   ]
  },
  {
   "cell_type": "code",
   "execution_count": null,
   "metadata": {},
   "outputs": [],
   "source": [
    "for c in classes[0:4]:\n",
    "    dest = path/c\n",
    "    dest.mkdir(parents=True, exist_ok=True)\n",
    "#     csv_file = [path for path in Path(\"csvs\").ls() if c in path.as_posix()][0]\n",
    "#     fastai.vision.download_images(csv_file, dest)\n",
    "    fastai.vision.verify_images(dest, delete=True, max_size=500)\n",
    "#     fastai.vision.verify_images(dest, delete=True, max_size=500)"
   ]
  },
  {
   "cell_type": "code",
   "execution_count": null,
   "metadata": {},
   "outputs": [],
   "source": [
    "transforms = get_transforms(\n",
    "    do_flip = True, #D\n",
    "    flip_vert = False, #D\n",
    "    max_zoom = 1,\n",
    "    max_rotate = 10, #D\n",
    "    max_lighting = 0.1, #default 0.2\n",
    "    max_warp = 0.1, #default 0.1\n",
    "    p_affine = 0.75, #D\n",
    "    p_lighting = 0.75) #D"
   ]
  },
  {
   "cell_type": "code",
   "execution_count": null,
   "metadata": {},
   "outputs": [],
   "source": [
    "torch.cuda.set_device(2)"
   ]
  },
  {
   "cell_type": "code",
   "execution_count": null,
   "metadata": {},
   "outputs": [],
   "source": [
    "np.random.seed(42)\n",
    "\n",
    "data = (ImageDataBunch\n",
    "        .from_folder(path,\n",
    "                     train=\".\", valid_pct=0.2, bs=64,\n",
    "                     ds_tfms=transforms, size=336)\n",
    "#         .filter_by_func(lambda fname:\"Blackpink\" in Path(fname).as_posix())\n",
    "        .normalize(imagenet_stats))"
   ]
  },
  {
   "cell_type": "code",
   "execution_count": null,
   "metadata": {},
   "outputs": [],
   "source": [
    "data"
   ]
  },
  {
   "cell_type": "code",
   "execution_count": null,
   "metadata": {},
   "outputs": [],
   "source": [
    "data.show_batch(rows=3, figsize=(7,8))"
   ]
  },
  {
   "cell_type": "code",
   "execution_count": null,
   "metadata": {},
   "outputs": [],
   "source": [
    "learn = cnn_learner(data, models.resnet50, metrics=error_rate)"
   ]
  },
  {
   "cell_type": "code",
   "execution_count": null,
   "metadata": {},
   "outputs": [],
   "source": [
    "lr_find(learn)\n",
    "learn.recorder.plot()"
   ]
  },
  {
   "cell_type": "code",
   "execution_count": null,
   "metadata": {},
   "outputs": [],
   "source": [
    "learn.fit_one_cycle(10)"
   ]
  },
  {
   "cell_type": "code",
   "execution_count": null,
   "metadata": {},
   "outputs": [],
   "source": [
    "learn.recorder.plot_losses()"
   ]
  },
  {
   "cell_type": "code",
   "execution_count": null,
   "metadata": {},
   "outputs": [],
   "source": [
    "interp = ClassificationInterpretation.from_learner(learn)\n",
    "losses,idxs = interp.top_losses()"
   ]
  },
  {
   "cell_type": "code",
   "execution_count": null,
   "metadata": {},
   "outputs": [],
   "source": [
    "interp.plot_confusion_matrix()"
   ]
  },
  {
   "cell_type": "code",
   "execution_count": null,
   "metadata": {},
   "outputs": [],
   "source": [
    "interp.plot_top_losses(20, figsize=(15,11))"
   ]
  },
  {
   "cell_type": "code",
   "execution_count": null,
   "metadata": {},
   "outputs": [],
   "source": [
    "interp.most_confused(min_val=2)"
   ]
  },
  {
   "cell_type": "code",
   "execution_count": null,
   "metadata": {},
   "outputs": [],
   "source": [
    "model_path = Path(\"..\")\n",
    "learn.save(model_path/\"2019-06-23_RESNET50_defaults_10epoch_0.2error\")"
   ]
  },
  {
   "cell_type": "code",
   "execution_count": null,
   "metadata": {},
   "outputs": [],
   "source": [
    "!jupyter nbconvert celebrity-classifier --to html --output nbs/2019-06-25_RESNET50_defaults_0.8accuracy_LOL"
   ]
  }
 ],
 "metadata": {
  "kernelspec": {
   "display_name": "Python 3",
   "language": "python",
   "name": "python3"
  },
  "language_info": {
   "codemirror_mode": {
    "name": "ipython",
    "version": 3
   },
   "file_extension": ".py",
   "mimetype": "text/x-python",
   "name": "python",
   "nbconvert_exporter": "python",
   "pygments_lexer": "ipython3",
   "version": "3.7.0"
  }
 },
 "nbformat": 4,
 "nbformat_minor": 2
}
